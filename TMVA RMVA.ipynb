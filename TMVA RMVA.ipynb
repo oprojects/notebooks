{
 "cells": [
  {
   "cell_type": "markdown",
   "metadata": {},
   "source": [
    "<img src=\"http://oproject.org/tiki-download_file.php?fileId=6&display\">\n",
    "<img src=\"http://gfif.udea.edu.co/root/tmva/img/tmva_logo.gif\">\n",
    "## Required header files"
   ]
  },
  {
   "cell_type": "code",
   "execution_count": null,
   "metadata": {
    "collapsed": true
   },
   "outputs": [],
   "source": [
    "#include <cstdlib>\n",
    "#include <iostream>\n",
    "#include <map>\n",
    "#include <string>\n",
    "\n",
    "#include \"TChain.h\"\n",
    "#include \"TFile.h\"\n",
    "#include \"TTree.h\"\n",
    "#include \"TString.h\"\n",
    "#include \"TObjString.h\"\n",
    "#include \"TSystem.h\"\n",
    "#include \"TROOT.h\"\n",
    "\n",
    "\n",
    "#include \"TMVA/Factory.h\"\n",
    "#include \"TMVA/Tools.h\"\n",
    "#include \"TMVA/DataLoader.h\"\n",
    "#include \"TRInterface.h\"\n",
    "#include \"TMVA/MethodC50.h\"\n",
    "#include \"TMVA/MethodRSNNS.h\"\n",
    "#include \"TMVA/MethodRSVM.h\"\n",
    "#include \"TMVA/MethodRXGB.h\"\n",
    "\n",
    "#include<TMVA/efficiencies.h>\n",
    "#include \"TMVA/tmvaglob.h\"\n",
    "#include \"TH2F.h\"\n",
    "#include \"TFile.h\"\n",
    "#include \"TIterator.h\"\n",
    "#include \"TKey.h\"\n"
   ]
  },
  {
   "cell_type": "markdown",
   "metadata": {},
   "source": [
    "## ROOT-R Initialization "
   ]
  },
  {
   "cell_type": "code",
   "execution_count": null,
   "metadata": {
    "collapsed": true
   },
   "outputs": [],
   "source": [
    "ROOT::R::TRInterface::Instance();\n",
    "TMVA::Tools::Instance();"
   ]
  },
  {
   "cell_type": "markdown",
   "metadata": {},
   "source": [
    "## Declare Factory and DataLoader\n"
   ]
  },
  {
   "cell_type": "code",
   "execution_count": null,
   "metadata": {
    "collapsed": false
   },
   "outputs": [],
   "source": [
    "\n",
    "\n",
    "TString outfileName( \"RMVAOutput.root\" );\n",
    "TFile* outputFile = TFile::Open( outfileName, \"RECREATE\" );\n",
    "\n",
    "TMVA::Factory *factory = new TMVA::Factory( \"TMVAClassification\", outputFile,\n",
    "                                               \"!V:ROC:Correlations:!Silent:Color:!DrawProgressBar:AnalysisType=Classification\" );\n",
    "\n",
    "TMVA::DataLoader *loader=new TMVA::DataLoader(\"mymc-dataset\");\n",
    "\n",
    "TFile *input = TFile::Open( \"MyMCdataset.root\");\n"
   ]
  },
  {
   "cell_type": "markdown",
   "metadata": {},
   "source": [
    "## Adding variables to DataLoader"
   ]
  },
  {
   "cell_type": "code",
   "execution_count": null,
   "metadata": {
    "collapsed": true
   },
   "outputs": [],
   "source": [
    "loader->AddVariable( \"var0\", 'F' );\n",
    "loader->AddVariable( \"var1\", 'F' );\n",
    "loader->AddVariable( \"var2\", 'F' );\n",
    "loader->AddVariable( \"var3 := var0-var1\", 'F' );\n",
    "loader->AddVariable( \"var4 := var0*var2\", 'F' );\n",
    "loader->AddVariable( \"var5 := var1+var2\", 'F' );   "
   ]
  },
  {
   "cell_type": "markdown",
   "metadata": {},
   "source": [
    "## Setting up dataset from Trees"
   ]
  },
  {
   "cell_type": "code",
   "execution_count": null,
   "metadata": {
    "collapsed": false
   },
   "outputs": [],
   "source": [
    "std::cout << \"--- TMVAClassification       : Using input file: \" << input->GetName() << std::endl;\n",
    "   \n",
    "// --- Register the training and test trees\n",
    "TTree *tsignal     = (TTree*)input->Get(\"MyMCSig\");\n",
    "TTree *tbackground = (TTree*)input->Get(\"MyMCBkg\");\n",
    "   \n",
    "Double_t signalWeight     = 1.0;\n",
    "Double_t backgroundWeight = 1.0;\n",
    "   \n",
    "loader->AddSignalTree    ( tsignal,     signalWeight     );\n",
    "loader->AddBackgroundTree( tbackground, backgroundWeight );   \n",
    "    \n",
    "TCut mycuts = \"\"; \n",
    "TCut mycutb = \"\"; \n",
    "\n",
    "loader->fSignalWeight=signalWeight;\n",
    "loader->fBackgroundWeight=backgroundWeight;\n",
    "loader->fTreeS=tsignal;\n",
    "loader->fTreeB=tbackground;\n",
    "loader->PrepareTrainingAndTestTree( mycuts, mycutb,\n",
    "                                        \"nTrain_Signal=3000:nTrain_Background=3000:nTest_Signal=1449:nTest_Background=1449:SplitMode=Random:NormMode=NumEvents:!V\" );\n",
    "                                        "
   ]
  },
  {
   "cell_type": "markdown",
   "metadata": {},
   "source": [
    "## Booking methods\n",
    "Available Booking methods with options for RMVA are\n",
    "\n",
    "C50 Boosted Decision Trees http://oproject.org/tiki-index.php?page=RMVA#C50Booking\n",
    "\n",
    "RMLP Neural Networks http://oproject.org/tiki-index.php?page=RMVA#RSNNSMLP \n",
    "\n",
    "RSVM Support Vector Machines http://oproject.org/tiki-index.php?page=RMVA#E1071RSVM\n",
    "\n",
    "Extreme Gradient Boosted (RXGB) Decision Trees http://oproject.org/tiki-index.php?page=RMVA#RXGBBooking"
   ]
  },
  {
   "cell_type": "code",
   "execution_count": null,
   "metadata": {
    "collapsed": false
   },
   "outputs": [],
   "source": [
    "//C50 Boosted Decision Trees (BDTs)\n",
    "factory->BookMethod(loader, TMVA::Types::kC50, \"C50\",\"!H:NTrials=5:Rules=kTRUE:ControlSubSet=kFALSE:ControlBands=10:ControlWinnow=kFALSE:ControlNoGlobalPruning=kTRUE:ControlCF=0.25:ControlMinCases=2:ControlFuzzyThreshold=kTRUE:ControlSample=0:ControlEarlyStopping=kTRUE:!V\" );\n",
    "   \n",
    "//Neural Networks using RSNNS package\n",
    "factory->BookMethod(loader, TMVA::Types::kRSNNS, \"RMLP\",\"!H:VarTransform=N:Size=c(5):Maxit=10:InitFunc=Randomize_Weights:LearnFunc=Std_Backpropagation:LearnFuncParams=c(0.2,0):!V\" );\n",
    "   \n",
    "//Support Vector Machines (SVM) using e1071\n",
    "//factory->BookMethod(loader, TMVA::Types::kRSVM, \"RSVM\",\"!H:Kernel=linear:Type=C-classification:VarTransform=Norm:Probability=kTRUE:Tolerance=0.001:!V\" );\n",
    "\n",
    "//eXtreme Gradient Boosted XGB Decision Trees\n",
    "factory->BookMethod(loader, TMVA::Types::kRXGB, \"RXGB\",\"!V:NRounds=50:MaxDepth=2:Eta=1\" );\n",
    "\n",
    "//TMVA BDTs\n",
    "///factory->BookMethod(loader,TMVA::Types::kBDT, \"BDT\",\"!V:NTrees=10:MinNodeSize=2.5%:MaxDepth=2:BoostType=AdaBoost:AdaBoostBeta=0.5:UseBaggedBoost:BaggedSampleFraction=0.5:SeparationType=GiniIndex:nCuts=20\" );\n"
   ]
  },
  {
   "cell_type": "markdown",
   "metadata": {},
   "source": [
    "## Training "
   ]
  },
  {
   "cell_type": "code",
   "execution_count": null,
   "metadata": {
    "collapsed": false
   },
   "outputs": [],
   "source": [
    "factory->TrainAllMethods();"
   ]
  },
  {
   "cell_type": "markdown",
   "metadata": {},
   "source": [
    "## Testing"
   ]
  },
  {
   "cell_type": "code",
   "execution_count": null,
   "metadata": {
    "collapsed": false
   },
   "outputs": [],
   "source": [
    "factory->TestAllMethods();\n",
    "\n",
    "factory->EvaluateAllMethods();    \n",
    "\n",
    "// Save the output\n",
    "outputFile->Close();\n",
    "\n",
    "//    std::cout << \"==> Wrote root file: \" << outputFile->GetName() << std::endl;\n",
    "std::cout << \"==> TMVAClassification is done!\" << std::endl;\n",
    "\n",
    "delete factory;\n",
    "delete loader;"
   ]
  },
  {
   "cell_type": "code",
   "execution_count": null,
   "metadata": {
    "collapsed": false
   },
   "outputs": [],
   "source": [
    "TFile *file=TFile::Open(\"RMVAOutput.root\");\n",
    "gDirectory->cd(\"mymc-dataset\");\n",
    "\n",
    "TMVA::plot_efficiencies(file,  2,gDirectory);\n",
    "c->Draw();"
   ]
  },
  {
   "cell_type": "code",
   "execution_count": null,
   "metadata": {
    "collapsed": true
   },
   "outputs": [],
   "source": []
  }
 ],
 "metadata": {
  "kernelspec": {
   "display_name": "ROOT Prompt",
   "language": "c++",
   "name": "root"
  },
  "language_info": {
   "codemirror_mode": {
    "name": "ipython",
    "version": 2
   },
   "file_extension": ".py",
   "mimetype": "text/x-python",
   "name": "python",
   "nbconvert_exporter": "python",
   "pygments_lexer": "ipython2",
   "version": "2.7.9"
  }
 },
 "nbformat": 4,
 "nbformat_minor": 0
}
