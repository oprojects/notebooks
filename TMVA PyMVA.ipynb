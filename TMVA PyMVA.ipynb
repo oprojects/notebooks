{
 "cells": [
  {
   "cell_type": "markdown",
   "metadata": {},
   "source": [
    "<img src=\"http://oproject.org/tiki-download_file.php?fileId=8&display&x=450&y=128\">\n",
    "<img src=\"http://oproject.org/tiki-download_file.php?fileId=25&display&x=452&y=161\">\n",
    "<img src=\"http://gfif.udea.edu.co/root/tmva/img/tmva_logo.gif\">\n",
    "## Required header files"
   ]
  },
  {
   "cell_type": "code",
   "execution_count": null,
   "metadata": {
    "collapsed": false
   },
   "outputs": [],
   "source": [
    "#include <cstdlib>\n",
    "#include <iostream>\n",
    "#include <map>\n",
    "#include <string>\n",
    "\n",
    "#include \"TChain.h\"\n",
    "#include \"TFile.h\"\n",
    "#include \"TTree.h\"\n",
    "#include \"TString.h\"\n",
    "#include \"TObjString.h\"\n",
    "#include \"TSystem.h\"\n",
    "#include \"TROOT.h\"\n",
    "\n",
    "#include \"TMVA/Factory.h\"\n",
    "#include \"TMVA/Tools.h\"\n",
    "#include \"TMVA/DataLoader.h\"\n",
    "#include \"TMVA/MethodPyAdaBoost.h\"\n",
    "#include \"TMVA/MethodPyGTB.h\"\n",
    "#include \"TMVA/MethodPyRandomForest.h\""
   ]
  },
  {
   "cell_type": "markdown",
   "metadata": {},
   "source": [
    "## Defining required objects"
   ]
  },
  {
   "cell_type": "code",
   "execution_count": null,
   "metadata": {
    "collapsed": false
   },
   "outputs": [],
   "source": [
    "TMVA::Tools::Instance();\n",
    "\n",
    "TString outfileName( \"PyMVAOutput.root\" );\n",
    "TFile* outputFile = TFile::Open( outfileName, \"RECREATE\" );\n",
    "\n",
    "TMVA::Factory *factory = new TMVA::Factory( \"TMVAClassification\", outputFile,\n",
    "                                               \"!V:ROC:Correlations:!Silent:Color:!DrawProgressBar:AnalysisType=Classification\" );\n",
    "   \n",
    "TMVA::DataLoader *loader=new TMVA::DataLoader(\"mymc-dataset\");\n",
    "TFile *input = TFile::Open( \"MyMCdataset.root\");"
   ]
  },
  {
   "cell_type": "markdown",
   "metadata": {},
   "source": [
    "## Adding variables to Data Loader"
   ]
  },
  {
   "cell_type": "code",
   "execution_count": null,
   "metadata": {
    "collapsed": false
   },
   "outputs": [],
   "source": [
    "loader->AddVariable( \"var0\", 'F' );\n",
    "loader->AddVariable( \"var1\", 'F' );\n",
    "loader->AddVariable( \"var2\", 'F' );\n",
    "loader->AddVariable( \"var3 := var0-var1\", 'F' );\n",
    "loader->AddVariable( \"var4 := var0*var2\", 'F' );\n",
    "loader->AddVariable( \"var5 := var1+var2\", 'F' );"
   ]
  },
  {
   "cell_type": "code",
   "execution_count": null,
   "metadata": {
    "collapsed": false
   },
   "outputs": [],
   "source": [
    "std::cout << \"--- TMVAClassification       : Using input file: \" << input->GetName() << std::endl;\n",
    "   \n",
    "// --- Register the training and test trees\n",
    "TTree *tsignal     = (TTree*)input->Get(\"MyMCSig\");\n",
    "TTree *tbackground = (TTree*)input->Get(\"MyMCBkg\");\n",
    "   \n",
    "Double_t signalWeight     = 1.0;\n",
    "Double_t backgroundWeight = 1.0;\n",
    "   \n",
    "loader->AddSignalTree    ( tsignal,     signalWeight     );\n",
    "loader->AddBackgroundTree( tbackground, backgroundWeight );   \n",
    "    \n",
    "TCut mycuts = \"\"; \n",
    "TCut mycutb = \"\"; \n",
    "\n",
    "loader->fSignalWeight=signalWeight;\n",
    "loader->fBackgroundWeight=backgroundWeight;\n",
    "loader->fTreeS=tsignal;\n",
    "loader->fTreeB=tbackground;\n",
    "loader->PrepareTrainingAndTestTree( mycuts, mycutb,\n",
    "                                   \"nTrain_Signal=3000:nTrain_Background=3000:nTest_Signal=1449:nTest_Background=1449:SplitMode=Random:NormMode=NumEvents:!V\" );"
   ]
  },
  {
   "cell_type": "markdown",
   "metadata": {},
   "source": [
    "## Booking Methods"
   ]
  },
  {
   "cell_type": "code",
   "execution_count": null,
   "metadata": {
    "collapsed": false
   },
   "outputs": [],
   "source": [
    "//Random Forest\n",
    "factory->BookMethod(loader,TMVA::Types::kPyRandomForest, \"PyRandomForest\",\"!V:NEstimators=10:Criterion=gini:MaxFeatures=auto:MaxDepth=6:MinSamplesLeaf=3:MinWeightFractionLeaf=0:Bootstrap=kTRUE\" );\n",
    "\n",
    "//Gradient Trees Boosted\n",
    "factory->BookMethod(loader,TMVA::Types::kPyGTB, \"PyGTB\",\"!V:NEstimators=10:Loss=deviance:LearningRate=0.1:Subsample=1:MaxDepth=3:MaxFeatures='auto'\" );\n",
    "   \n",
    "//Adaptative Boost\n",
    "factory->BookMethod(loader,TMVA::Types::kPyAdaBoost, \"PyAdaBoost\",\"!V:NEstimators=10:LearningRate=1.0:Algorithm=SAMME.R\" );"
   ]
  },
  {
   "cell_type": "markdown",
   "metadata": {},
   "source": [
    "## Training the Methods\n",
    "\n",
    "Available Booking methods with options for RMVA are\n",
    "\n"
   ]
  },
  {
   "cell_type": "code",
   "execution_count": null,
   "metadata": {
    "collapsed": false
   },
   "outputs": [],
   "source": [
    " factory->TrainAllMethods();"
   ]
  },
  {
   "cell_type": "markdown",
   "metadata": {},
   "source": [
    "## Testing and Evaluating the data"
   ]
  },
  {
   "cell_type": "code",
   "execution_count": null,
   "metadata": {
    "collapsed": false
   },
   "outputs": [],
   "source": [
    "factory->TestAllMethods();\n",
    "factory->EvaluateAllMethods();"
   ]
  },
  {
   "cell_type": "code",
   "execution_count": null,
   "metadata": {
    "collapsed": false
   },
   "outputs": [],
   "source": [
    "// Save the output\n",
    "outputFile->Close();\n",
    "\n",
    "std::cout << \"==> Wrote root file: \" << outputFile->GetName() << std::endl;\n",
    "std::cout << \"==> TMVAClassification is done!\" << std::endl;\n",
    "\n",
    "delete factory;\n",
    "delete loader;"
   ]
  },
  {
   "cell_type": "markdown",
   "metadata": {},
   "source": [
    "## Ploting ROC Curve"
   ]
  },
  {
   "cell_type": "code",
   "execution_count": null,
   "metadata": {
    "collapsed": false
   },
   "outputs": [],
   "source": [
    "TFile *file=TFile::Open(\"PyMVAOutput.root\");\n",
    "gDirectory->cd(\"mymc-dataset\");\n",
    "\n",
    "TMVA::plot_efficiencies(file,  2,gDirectory);\n",
    "c->Draw();"
   ]
  },
  {
   "cell_type": "code",
   "execution_count": null,
   "metadata": {
    "collapsed": true
   },
   "outputs": [],
   "source": []
  }
 ],
 "metadata": {
  "kernelspec": {
   "display_name": "ROOT Prompt",
   "language": "c++",
   "name": "root"
  },
  "language_info": {
   "codemirror_mode": {
    "name": "ipython",
    "version": 2
   },
   "file_extension": ".py",
   "mimetype": "text/x-python",
   "name": "python",
   "nbconvert_exporter": "python",
   "pygments_lexer": "ipython2",
   "version": "2.7.9"
  }
 },
 "nbformat": 4,
 "nbformat_minor": 0
}
