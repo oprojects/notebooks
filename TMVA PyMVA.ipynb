{
 "cells": [
  {
   "cell_type": "markdown",
   "metadata": {},
   "source": [
    "<img src=\"http://oproject.org/tiki-download_file.php?fileId=8&display&x=450&y=128\">\n",
    "<img src=\"http://oproject.org/tiki-download_file.php?fileId=25&display&x=452&y=161\">\n",
    "<img src=\"http://gfif.udea.edu.co/root/tmva/img/tmva_logo.gif\">\n",
    "## Required header files"
   ]
  },
  {
   "cell_type": "code",
   "execution_count": 1,
   "metadata": {
    "collapsed": false
   },
   "outputs": [],
   "source": [
    "#include <cstdlib>\n",
    "#include <iostream>\n",
    "#include <map>\n",
    "#include <string>\n",
    "\n",
    "#include \"TChain.h\"\n",
    "#include \"TFile.h\"\n",
    "#include \"TTree.h\"\n",
    "#include \"TString.h\"\n",
    "#include \"TObjString.h\"\n",
    "#include \"TSystem.h\"\n",
    "#include \"TROOT.h\"\n",
    "\n",
    "#include \"TMVA/Factory.h\"\n",
    "#include \"TMVA/Tools.h\"\n",
    "#include \"TMVA/DataLoader.h\"\n",
    "#include \"TMVA/MethodPyAdaBoost.h\"\n",
    "#include \"TMVA/MethodPyGTB.h\"\n",
    "#include \"TMVA/MethodPyRandomForest.h\""
   ]
  },
  {
   "cell_type": "markdown",
   "metadata": {},
   "source": [
    "## Declare Factory and DataLoader"
   ]
  },
  {
   "cell_type": "code",
   "execution_count": 2,
   "metadata": {
    "collapsed": false
   },
   "outputs": [
    {
     "name": "stdout",
     "output_type": "stream",
     "text": [
      "--- Factory                  : You are running ROOT Version: 6.05/03, Sep 14, 2015\n",
      "--- Factory                  : \n",
      "--- Factory                  : _/_/_/_/_/ _|      _|  _|      _|    _|_|   \n",
      "--- Factory                  :    _/      _|_|  _|_|  _|      _|  _|    _| \n",
      "--- Factory                  :   _/       _|  _|  _|  _|      _|  _|_|_|_| \n",
      "--- Factory                  :  _/        _|      _|    _|  _|    _|    _| \n",
      "--- Factory                  : _/         _|      _|      _|      _|    _| \n",
      "--- Factory                  : \n",
      "--- Factory                  : ___________TMVA Version 5.0.0 alpha, Oct 30, 2015\n",
      "--- Factory                  : \n"
     ]
    }
   ],
   "source": [
    "TMVA::Tools::Instance();\n",
    "\n",
    "TString outfileName( \"PyMVAOutput.root\" );\n",
    "TFile* outputFile = TFile::Open( outfileName, \"RECREATE\" );\n",
    "\n",
    "TMVA::Factory *factory = new TMVA::Factory( \"TMVAClassification\", outputFile,\n",
    "                                               \"!V:ROC:Correlations:!Silent:Color:!DrawProgressBar:AnalysisType=Classification\" );\n",
    "   \n",
    "TMVA::DataLoader *loader=new TMVA::DataLoader(\"mymc-dataset\");\n",
    "TFile *input = TFile::Open( \"MyMCdataset.root\");"
   ]
  },
  {
   "cell_type": "markdown",
   "metadata": {},
   "source": [
    "## Adding variables to DataLoader"
   ]
  },
  {
   "cell_type": "code",
   "execution_count": 3,
   "metadata": {
    "collapsed": false
   },
   "outputs": [],
   "source": [
    "loader->AddVariable( \"var0\", 'F' );\n",
    "loader->AddVariable( \"var1\", 'F' );\n",
    "loader->AddVariable( \"var2\", 'F' );\n",
    "loader->AddVariable( \"var3 := var0-var1\", 'F' );\n",
    "loader->AddVariable( \"var4 := var0*var2\", 'F' );\n",
    "loader->AddVariable( \"var5 := var1+var2\", 'F' );"
   ]
  },
  {
   "cell_type": "code",
   "execution_count": 4,
   "metadata": {
    "collapsed": false
   },
   "outputs": [
    {
     "name": "stdout",
     "output_type": "stream",
     "text": [
      "--- TMVAClassification       : Using input file: MyMCdataset.root\n",
      "--- DataSetInfo              : Dataset[mymc-dataset] : Added class \"Signal\"\t with internal class number 0\n",
      "--- mymc-dataset             : Add Tree MyMCSig of type Signal with 5449 events\n",
      "--- DataSetInfo              : Dataset[mymc-dataset] : Added class \"Background\"\t with internal class number 1\n",
      "--- mymc-dataset             : Add Tree MyMCBkg of type Background with 5449 events\n",
      "--- mymc-dataset             : Preparing trees for training and testing...\n"
     ]
    }
   ],
   "source": [
    "std::cout << \"--- TMVAClassification       : Using input file: \" << input->GetName() << std::endl;\n",
    "   \n",
    "// --- Register the training and test trees\n",
    "TTree *tsignal     = (TTree*)input->Get(\"MyMCSig\");\n",
    "TTree *tbackground = (TTree*)input->Get(\"MyMCBkg\");\n",
    "   \n",
    "Double_t signalWeight     = 1.0;\n",
    "Double_t backgroundWeight = 1.0;\n",
    "   \n",
    "loader->AddSignalTree    ( tsignal,     signalWeight     );\n",
    "loader->AddBackgroundTree( tbackground, backgroundWeight );   \n",
    "    \n",
    "TCut mycuts = \"\"; \n",
    "TCut mycutb = \"\"; \n",
    "\n",
    "loader->fSignalWeight=signalWeight;\n",
    "loader->fBackgroundWeight=backgroundWeight;\n",
    "loader->fTreeS=tsignal;\n",
    "loader->fTreeB=tbackground;\n",
    "loader->PrepareTrainingAndTestTree( mycuts, mycutb,\n",
    "                                   \"nTrain_Signal=3000:nTrain_Background=3000:nTest_Signal=1449:nTest_Background=1449:SplitMode=Random:NormMode=NumEvents:!V\" );"
   ]
  },
  {
   "cell_type": "markdown",
   "metadata": {},
   "source": [
    "## Booking Methods\n",
    "Available Booking methods with options for PyMVA are\n",
    "\n",
    "PyRandomForest http://oproject.org/tiki-index.php?page=PyMVA#PyRFBooking\n",
    "\n",
    "PyGTB (Gradient Trees Boosted) http://oproject.org/tiki-index.php?page=PyMVA#PyGTBBooking\n",
    "\n",
    "PyAdaBoost (Adaptative Boosting) http://oproject.org/tiki-index.php?page=PyMVA#PyAdaBoostBooking"
   ]
  },
  {
   "cell_type": "code",
   "execution_count": 5,
   "metadata": {
    "collapsed": false
   },
   "outputs": [
    {
     "name": "stdout",
     "output_type": "stream",
     "text": [
      "--- Factory                  : Booking method: \u001b[1mPyRandomForest\u001b[0m DataSet Name: \u001b[1mmymc-dataset\u001b[0m\n",
      "--- DataSetFactory           : Dataset[mymc-dataset] : Splitmode is: \"RANDOM\" the mixmode is: \"SAMEASSPLITMODE\"\n",
      "--- DataSetFactory           : Dataset[mymc-dataset] : Create training and testing trees -- looping over class \"Signal\" ...\n",
      "--- DataSetFactory           : Dataset[mymc-dataset] : Weight expression for class 'Signal': \"\"\n",
      "--- DataSetFactory           : Dataset[mymc-dataset] : Create training and testing trees -- looping over class \"Background\" ...\n",
      "--- DataSetFactory           : Dataset[mymc-dataset] : Weight expression for class 'Background': \"\"\n",
      "--- DataSetFactory           : Dataset[mymc-dataset] : Number of events in input trees (after possible flattening of arrays):\n",
      "--- DataSetFactory           : Dataset[mymc-dataset] :     Signal          -- number of events       : 5449   / sum of weights: 5449 \n",
      "--- DataSetFactory           : Dataset[mymc-dataset] :     Background      -- number of events       : 5449   / sum of weights: 5449 \n",
      "--- DataSetFactory           : Dataset[mymc-dataset] :     Signal     tree -- total number of entries: 5449 \n",
      "--- DataSetFactory           : Dataset[mymc-dataset] :     Background tree -- total number of entries: 5449 \n",
      "--- DataSetFactory           : Dataset[mymc-dataset] : Preselection: (will NOT affect number of requested training and testing events)\n",
      "--- DataSetFactory           : Dataset[mymc-dataset] :     No preselection cuts applied on event classes\n",
      "--- DataSetFactory           : Dataset[mymc-dataset] : Weight renormalisation mode: \"NumEvents\": renormalises all event classes \n",
      "--- DataSetFactory           : Dataset[mymc-dataset] :  such that the effective (weighted) number of events in each class equals the respective \n",
      "--- DataSetFactory           : Dataset[mymc-dataset] :  number of events (entries) that you demanded in PrepareTrainingAndTestTree(\"\",\"nTrain_Signal=.. )\n",
      "--- DataSetFactory           : Dataset[mymc-dataset] :  ... i.e. such that Sum[i=1..N_j]{w_i} = N_j, j=0,1,2...\n",
      "--- DataSetFactory           : Dataset[mymc-dataset] :  ... (note that N_j is the sum of TRAINING events (nTrain_j...with j=Signal,Background..\n",
      "--- DataSetFactory           : Dataset[mymc-dataset] :  ..... Testing events are not renormalised nor included in the renormalisation factor! )\n",
      "--- DataSetFactory           : Dataset[mymc-dataset] : --> Rescale Signal     event weights by factor: 1\n",
      "--- DataSetFactory           : Dataset[mymc-dataset] : --> Rescale Background event weights by factor: 1\n",
      "--- DataSetFactory           : Dataset[mymc-dataset] : Number of training and testing events after rescaling:\n",
      "--- DataSetFactory           : Dataset[mymc-dataset] : ---------------------------------------------------------------------------\n",
      "--- DataSetFactory           : Dataset[mymc-dataset] : Signal     -- training events            : 3000 (sum of weights: 3000) - requested were 3000 events\n",
      "--- DataSetFactory           : Dataset[mymc-dataset] : Signal     -- testing events             : 1449 (sum of weights: 1449) - requested were 1449 events\n",
      "--- DataSetFactory           : Dataset[mymc-dataset] : Signal     -- training and testing events: 4449 (sum of weights: 4449)\n",
      "--- DataSetFactory           : Dataset[mymc-dataset] : Background -- training events            : 3000 (sum of weights: 3000) - requested were 3000 events\n",
      "--- DataSetFactory           : Dataset[mymc-dataset] : Background -- testing events             : 1449 (sum of weights: 1449) - requested were 1449 events\n",
      "--- DataSetFactory           : Dataset[mymc-dataset] : Background -- training and testing events: 4449 (sum of weights: 4449)\n",
      "--- DataSetFactory           : Dataset[mymc-dataset] : Create internal training tree\n",
      "--- DataSetFactory           : Dataset[mymc-dataset] : Create internal testing tree\n",
      "--- DataSetInfo              : Dataset[mymc-dataset] : Correlation matrix (Signal):\n",
      "--- DataSetInfo              : ----------------------------------------------------------------\n",
      "--- DataSetInfo              :               var0    var1    var2 var0-var1 var0*var2 var1+var2\n",
      "--- DataSetInfo              :      var0:  +1.000  -0.008  +0.012    +0.857    +0.922    +0.001\n",
      "--- DataSetInfo              :      var1:  -0.008  +1.000  +0.028    -0.521    +0.003    +0.810\n",
      "--- DataSetInfo              :      var2:  +0.012  +0.028  +1.000    -0.004    +0.331    +0.609\n",
      "--- DataSetInfo              : var0-var1:  +0.857  -0.521  -0.004    +1.000    +0.785    -0.416\n",
      "--- DataSetInfo              : var0*var2:  +0.922  +0.003  +0.331    +0.785    +1.000    +0.197\n",
      "--- DataSetInfo              : var1+var2:  +0.001  +0.810  +0.609    -0.416    +0.197    +1.000\n",
      "--- DataSetInfo              : ----------------------------------------------------------------\n",
      "--- DataSetInfo              : Dataset[mymc-dataset] : Correlation matrix (Background):\n",
      "--- DataSetInfo              : ----------------------------------------------------------------\n",
      "--- DataSetInfo              :               var0    var1    var2 var0-var1 var0*var2 var1+var2\n",
      "--- DataSetInfo              :      var0:  +1.000  -0.008  -0.004    +0.652    +0.664    -0.009\n",
      "--- DataSetInfo              :      var1:  -0.008  +1.000  +0.031    -0.764    +0.018    +0.746\n",
      "--- DataSetInfo              :      var2:  -0.004  +0.031  +1.000    -0.026    +0.692    +0.688\n",
      "--- DataSetInfo              : var0-var1:  +0.652  -0.764  -0.026    +1.000    +0.415    -0.572\n",
      "--- DataSetInfo              : var0*var2:  +0.664  +0.018  +0.692    +0.415    +1.000    +0.474\n",
      "--- DataSetInfo              : var1+var2:  -0.009  +0.746  +0.688    -0.572    +0.474    +1.000\n",
      "--- DataSetInfo              : ----------------------------------------------------------------\n",
      "--- DataSetFactory           : Dataset[mymc-dataset] :  \n",
      "--- Factory                  : Booking method: \u001b[1mPyGTB\u001b[0m DataSet Name: \u001b[1mmymc-dataset\u001b[0m\n",
      "--- Factory                  : Booking method: \u001b[1mPyAdaBoost\u001b[0m DataSet Name: \u001b[1mmymc-dataset\u001b[0m\n"
     ]
    }
   ],
   "source": [
    "//Random Forest\n",
    "factory->BookMethod(loader,TMVA::Types::kPyRandomForest, \"PyRandomForest\",\"!V:NEstimators=10:Criterion=gini:MaxFeatures=auto:MaxDepth=6:MinSamplesLeaf=3:MinWeightFractionLeaf=0:Bootstrap=kTRUE\" );\n",
    "\n",
    "//Gradient Trees Boosted\n",
    "factory->BookMethod(loader,TMVA::Types::kPyGTB, \"PyGTB\",\"!V:NEstimators=10:Loss=deviance:LearningRate=0.1:Subsample=1:MaxDepth=3:MaxFeatures='auto'\" );\n",
    "   \n",
    "//Adaptative Boost\n",
    "factory->BookMethod(loader,TMVA::Types::kPyAdaBoost, \"PyAdaBoost\",\"!V:NEstimators=10:LearningRate=1.0:Algorithm=SAMME.R\" );"
   ]
  },
  {
   "cell_type": "markdown",
   "metadata": {},
   "source": [
    "## Training the Methods"
   ]
  },
  {
   "cell_type": "code",
   "execution_count": 6,
   "metadata": {
    "collapsed": false
   },
   "outputs": [
    {
     "name": "stdout",
     "output_type": "stream",
     "text": [
      "--- Factory                  :  \n",
      "--- Factory                  : Train all methods for Classification ...\n",
      "--- Factory                  : \n",
      "--- Factory                  : current transformation string: 'I'\n",
      "--- Factory                  : Dataset[mymc-dataset] : Create Transformation \"I\" with events from all classes.\n",
      "--- Id                       : Transformation, Variable selection : \n",
      "--- Id                       : Input : variable 'var0' (index=0).   <---> Output : variable 'var0' (index=0).\n",
      "--- Id                       : Input : variable 'var1' (index=1).   <---> Output : variable 'var1' (index=1).\n",
      "--- Id                       : Input : variable 'var2' (index=2).   <---> Output : variable 'var2' (index=2).\n",
      "--- Id                       : Input : variable 'var3' (index=3).   <---> Output : variable 'var3' (index=3).\n",
      "--- Id                       : Input : variable 'var4' (index=4).   <---> Output : variable 'var4' (index=4).\n",
      "--- Id                       : Input : variable 'var5' (index=5).   <---> Output : variable 'var5' (index=5).\n",
      "--- Id                       : Preparing the Identity transformation...\n",
      "--- TFHandler_Factory        : -----------------------------------------------------------\n",
      "--- TFHandler_Factory        : Variable        Mean        RMS   [        Min        Max ]\n",
      "--- TFHandler_Factory        : -----------------------------------------------------------\n",
      "--- TFHandler_Factory        :     var0:     3.0763     1.7033   [   0.043380     9.9950 ]\n",
      "--- TFHandler_Factory        :     var1:     1.5553     1.4223   [ 0.00032097     4.9967 ]\n",
      "--- TFHandler_Factory        :     var2:     3.5090     1.1966   [  0.0038420     5.0000 ]\n",
      "--- TFHandler_Factory        :     var3:     1.5210     2.2372   [    -3.9769     9.9365 ]\n",
      "--- TFHandler_Factory        :     var4:     10.822     7.5844   [   0.014320     48.593 ]\n",
      "--- TFHandler_Factory        :     var5:     5.0643     1.7847   [    0.14162     9.9525 ]\n",
      "--- TFHandler_Factory        : -----------------------------------------------------------\n",
      "--- TFHandler_Factory        : Plot event variables for Id\n",
      "--- TFHandler_Factory        : Create scatter and profile plots in target-file directory: \n",
      "--- TFHandler_Factory        : PyMVAOutput.root:/mymc-dataset/InputVariables_Id/CorrelationPlots\n",
      "--- TFHandler_Factory        :  \n",
      "--- TFHandler_Factory        : Ranking input variables (method unspecific)...\n",
      "--- IdTransformation         : Ranking result (top variable is best ranked)\n",
      "--- IdTransformation         : -----------------------------\n",
      "--- IdTransformation         : Rank : Variable  : Separation\n",
      "--- IdTransformation         : -----------------------------\n",
      "--- IdTransformation         :    1 : var3      : 2.599e-01\n",
      "--- IdTransformation         :    2 : var1      : 1.432e-01\n",
      "--- IdTransformation         :    3 : var2      : 1.081e-01\n",
      "--- IdTransformation         :    4 : var0      : 1.014e-01\n",
      "--- IdTransformation         :    5 : var5      : 5.893e-02\n",
      "--- IdTransformation         :    6 : var4      : 5.046e-02\n",
      "--- IdTransformation         : -----------------------------\n",
      "--- Factory                  : Train method: PyRandomForest for Classification\n",
      "--- PyRandomForest           : Dataset[mymc-dataset] : Begin training\n",
      "(10, 'gini', 6, 2, 3, 0.0, 'auto', None, 1, 0, 1, None, 0, 0, None)\n",
      "RandomForestClassifier(bootstrap=1, class_weight=None, criterion='gini',\n",
      "            max_depth=6, max_features='auto', max_leaf_nodes=None,\n",
      "            min_samples_leaf=3, min_samples_split=2,\n",
      "            min_weight_fraction_leaf=0.0, n_estimators=10, n_jobs=1,\n",
      "            oob_score=0, random_state=None, verbose=0, warm_start=0)--- PyRandomForest           : \n",
      "--- PyRandomForest           : \u001b[1m--- Saving State File In:\u001b[0mweights/PyRFModel.PyData\n",
      "--- PyRandomForest           : \n",
      "--- PyRandomForest           : Dataset[mymc-dataset] : End of training                                              \n",
      "--- PyRandomForest           : Dataset[mymc-dataset] : Elapsed time for training with 6000 events: \u001b[1;31m0.145 sec\u001b[0m         \n",
      "--- PyRandomForest           : Dataset[mymc-dataset] : Create MVA output for Dataset[mymc-dataset] : classification on training sample\n",
      "--- PyRandomForest           : Dataset[mymc-dataset] : Evaluation of PyRandomForest on training sample (6000 events)\n",
      "--- PyRandomForest           : Dataset[mymc-dataset] : Elapsed time for evaluation of 6000 events: \u001b[1;31m7.39 sec\u001b[0m       \n",
      "--- PyRandomForest           : Dataset[mymc-dataset] : Creating weight file in xml format: \u001b[0;36mweights/TMVAClassification_PyRandomForest.weights.xml\u001b[0m\n",
      "--- PyRandomForest           : Dataset[mymc-dataset] : Creating standalone response class: \u001b[0;36mweights/TMVAClassification_PyRandomForest.class.C\u001b[0m\n",
      "--- Factory                  : Training finished\n",
      "--- Factory                  : Train method: PyGTB for Classification\n",
      "--- PyGTB                    : Dataset[mymc-dataset] : Begin training\n",
      "('deviance', 0.1, 10, 1.0, 2, 1, 0.0, 3, None, None, 'auto', 0, None, 0)\n",
      "GradientBoostingClassifier(init=None, learning_rate=0.1, loss='deviance',\n",
      "              max_depth=3, max_features='auto', max_leaf_nodes=None,\n",
      "              min_samples_leaf=1, min_samples_split=2,\n",
      "              min_weight_fraction_leaf=0.0, n_estimators=10,\n",
      "              random_state=None, subsample=1.0, verbose=0, warm_start=0)\n",
      "--- PyGTB                    : \n",
      "--- PyGTB                    : \u001b[1m--- Saving State File In:\u001b[0mweights/PyGTBModel.PyData\n",
      "--- PyGTB                    : \n",
      "--- PyGTB                    : Dataset[mymc-dataset] : End of training                                              \n",
      "--- PyGTB                    : Dataset[mymc-dataset] : Elapsed time for training with 6000 events: \u001b[1;31m0.0964 sec\u001b[0m         \n",
      "--- PyGTB                    : Dataset[mymc-dataset] : Create MVA output for Dataset[mymc-dataset] : classification on training sample\n",
      "--- PyGTB                    : Dataset[mymc-dataset] : Evaluation of PyGTB on training sample (6000 events)\n",
      "--- PyGTB                    : Dataset[mymc-dataset] : Elapsed time for evaluation of 6000 events: \u001b[1;31m0.774 sec\u001b[0m       \n",
      "--- PyGTB                    : Dataset[mymc-dataset] : Creating weight file in xml format: \u001b[0;36mweights/TMVAClassification_PyGTB.weights.xml\u001b[0m\n",
      "--- PyGTB                    : Dataset[mymc-dataset] : Creating standalone response class: \u001b[0;36mweights/TMVAClassification_PyGTB.class.C\u001b[0m\n",
      "--- Factory                  : Training finished\n",
      "--- Factory                  : Train method: PyAdaBoost for Classification\n",
      "--- PyAdaBoost               : Dataset[mymc-dataset] : Begin training\n",
      "(None, 10, 1.0, 'SAMME.R', None)\n",
      "AdaBoostClassifier(algorithm='SAMME.R', base_estimator=None,\n",
      "          learning_rate=1.0, n_estimators=10, random_state=None)--- PyAdaBoost               : \n",
      "--- PyAdaBoost               : \u001b[1m--- Saving State File In:\u001b[0mweights/PyAdaBoostModel.PyData\n",
      "--- PyAdaBoost               : \n",
      "--- PyAdaBoost               : Dataset[mymc-dataset] : End of training                                              \n",
      "--- PyAdaBoost               : Dataset[mymc-dataset] : Elapsed time for training with 6000 events: \u001b[1;31m0.115 sec\u001b[0m         \n",
      "--- PyAdaBoost               : Dataset[mymc-dataset] : Create MVA output for Dataset[mymc-dataset] : classification on training sample\n",
      "--- PyAdaBoost               : Dataset[mymc-dataset] : Evaluation of PyAdaBoost on training sample (6000 events)\n",
      "--- PyAdaBoost               : Dataset[mymc-dataset] : Elapsed time for evaluation of 6000 events: \u001b[1;31m10.4 sec\u001b[0m       \n",
      "--- PyAdaBoost               : Dataset[mymc-dataset] : Creating weight file in xml format: \u001b[0;36mweights/TMVAClassification_PyAdaBoost.weights.xml\u001b[0m\n",
      "--- PyAdaBoost               : Dataset[mymc-dataset] : Creating standalone response class: \u001b[0;36mweights/TMVAClassification_PyAdaBoost.class.C\u001b[0m\n",
      "--- Factory                  : Training finished\n",
      "--- Factory                  : \n",
      "--- Factory                  : Ranking input variables (method specific)...\n",
      "--- Factory                  : No variable ranking supplied by classifier: PyRandomForest\n",
      "--- Factory                  : No variable ranking supplied by classifier: PyGTB\n",
      "--- Factory                  : No variable ranking supplied by classifier: PyAdaBoost\n",
      "--- Factory                  : \n",
      "--- Factory                  : === Destroy and recreate all methods via weight files for testing ===\n",
      "--- Factory                  : \n",
      "--- MethodBase               : Dataset[mymc-dataset] : Reading weight file: \u001b[0;36mweights/TMVAClassification_PyRandomForest.weights.xml\u001b[0m\n",
      "--- PyRandomForest           : Dataset[mymc-dataset] : Read method \"PyRandomForest\" of type \"PyRandomForest\"\n",
      "--- PyRandomForest           : Dataset[mymc-dataset] : MVA method was trained with TMVA Version: 4.2.1\n",
      "--- PyRandomForest           : Dataset[mymc-dataset] : MVA method was trained with ROOT Version: 6.05/03\n",
      "--- MethodBase               : Dataset[mymc-dataset] : Reading weight file: \u001b[0;36mweights/TMVAClassification_PyGTB.weights.xml\u001b[0m\n",
      "--- PyGTB                    : Dataset[mymc-dataset] : Read method \"PyGTB\" of type \"PyGTB\"\n",
      "--- PyGTB                    : Dataset[mymc-dataset] : MVA method was trained with TMVA Version: 4.2.1\n",
      "--- PyGTB                    : Dataset[mymc-dataset] : MVA method was trained with ROOT Version: 6.05/03\n",
      "--- MethodBase               : Dataset[mymc-dataset] : Reading weight file: \u001b[0;36mweights/TMVAClassification_PyAdaBoost.weights.xml\u001b[0m\n",
      "--- PyAdaBoost               : Dataset[mymc-dataset] : Read method \"PyAdaBoost\" of type \"PyAdaBoost\"\n",
      "--- PyAdaBoost               : Dataset[mymc-dataset] : MVA method was trained with TMVA Version: 4.2.1\n",
      "--- PyAdaBoost               : Dataset[mymc-dataset] : MVA method was trained with ROOT Version: 6.05/03\n"
     ]
    }
   ],
   "source": [
    " factory->TrainAllMethods();"
   ]
  },
  {
   "cell_type": "markdown",
   "metadata": {},
   "source": [
    "## Testing and Evaluating the data"
   ]
  },
  {
   "cell_type": "code",
   "execution_count": 7,
   "metadata": {
    "collapsed": false
   },
   "outputs": [
    {
     "name": "stdout",
     "output_type": "stream",
     "text": [
      "--- Factory                  : Test all methods...\n",
      "--- Factory                  : Test method: PyRandomForest for Classification performance\n",
      "--- PyRandomForest           : Dataset[mymc-dataset] : Evaluation of PyRandomForest on testing sample (2898 events)\n",
      "--- PyRandomForest           : \n",
      "--- PyRandomForest           : \u001b[1m--- Loading State File From:\u001b[0mweights/PyRFModel.PyData\n",
      "--- PyRandomForest           : \n",
      "--- PyRandomForest           : Dataset[mymc-dataset] : Elapsed time for evaluation of 2898 events: \u001b[1;31m3.6 sec\u001b[0m       \n",
      "--- Factory                  : Test method: PyGTB for Classification performance\n",
      "--- PyGTB                    : Dataset[mymc-dataset] : Evaluation of PyGTB on testing sample (2898 events)\n",
      "--- PyGTB                    : \n",
      "--- PyGTB                    : \u001b[1m--- Loading State File From:\u001b[0mweights/PyGTBModel.PyData\n",
      "--- PyGTB                    : \n",
      "--- PyGTB                    : Dataset[mymc-dataset] : Elapsed time for evaluation of 2898 events: \u001b[1;31m0.382 sec\u001b[0m       \n",
      "--- Factory                  : Test method: PyAdaBoost for Classification performance\n",
      "--- PyAdaBoost               : Dataset[mymc-dataset] : Evaluation of PyAdaBoost on testing sample (2898 events)\n",
      "--- PyAdaBoost               : \n",
      "--- PyAdaBoost               : \u001b[1m--- Loading State File From:\u001b[0mweights/PyAdaBoostModel.PyData\n",
      "--- PyAdaBoost               : \n",
      "--- PyAdaBoost               : Dataset[mymc-dataset] : Elapsed time for evaluation of 2898 events: \u001b[1;31m4.88 sec\u001b[0m       \n",
      "--- Factory                  : Evaluate all methods...\n",
      "--- Factory                  : Evaluate classifier: PyRandomForest\n",
      "--- PyRandomForest           : Dataset[mymc-dataset] : Loop over test events and fill histograms with classifier response...\n",
      "--- Factory                  : Write evaluation histograms to file\n",
      "--- TFHandler_PyRandomForest : Plot event variables for PyRandomForest\n",
      "--- TFHandler_PyRandomForest : -----------------------------------------------------------\n",
      "--- TFHandler_PyRandomForest : Variable        Mean        RMS   [        Min        Max ]\n",
      "--- TFHandler_PyRandomForest : -----------------------------------------------------------\n",
      "--- TFHandler_PyRandomForest :     var0:     3.0511     1.6889   [   0.061879     9.9950 ]\n",
      "--- TFHandler_PyRandomForest :     var1:     1.6099     1.4314   [ 9.9424e-05     4.9956 ]\n",
      "--- TFHandler_PyRandomForest :     var2:     3.5015     1.2158   [ 0.00088645     4.9993 ]\n",
      "--- TFHandler_PyRandomForest :     var3:     1.4412     2.2459   [    -3.6483     9.9615 ]\n",
      "--- TFHandler_PyRandomForest :     var4:     10.770     7.6139   [ 0.00088366     48.019 ]\n",
      "--- TFHandler_PyRandomForest :     var5:     5.1113     1.8033   [    0.17973     9.9030 ]\n",
      "--- TFHandler_PyRandomForest : -----------------------------------------------------------\n",
      "--- TFHandler_PyRandomForest : Create scatter and profile plots in target-file directory: \n",
      "--- TFHandler_PyRandomForest : PyMVAOutput.root:/mymc-dataset/Method_PyRandomForest/PyRandomForest/CorrelationPlots\n",
      "--- Factory                  : Evaluate classifier: PyGTB\n",
      "--- PyGTB                    : Dataset[mymc-dataset] : Loop over test events and fill histograms with classifier response...\n",
      "--- Factory                  : Write evaluation histograms to file\n",
      "--- TFHandler_PyGTB          : Plot event variables for PyGTB\n",
      "--- TFHandler_PyGTB          : -----------------------------------------------------------\n",
      "--- TFHandler_PyGTB          : Variable        Mean        RMS   [        Min        Max ]\n",
      "--- TFHandler_PyGTB          : -----------------------------------------------------------\n",
      "--- TFHandler_PyGTB          :     var0:     3.0511     1.6889   [   0.061879     9.9950 ]\n",
      "--- TFHandler_PyGTB          :     var1:     1.6099     1.4314   [ 9.9424e-05     4.9956 ]\n",
      "--- TFHandler_PyGTB          :     var2:     3.5015     1.2158   [ 0.00088645     4.9993 ]\n",
      "--- TFHandler_PyGTB          :     var3:     1.4412     2.2459   [    -3.6483     9.9615 ]\n",
      "--- TFHandler_PyGTB          :     var4:     10.770     7.6139   [ 0.00088366     48.019 ]\n",
      "--- TFHandler_PyGTB          :     var5:     5.1113     1.8033   [    0.17973     9.9030 ]\n",
      "--- TFHandler_PyGTB          : -----------------------------------------------------------\n",
      "--- TFHandler_PyGTB          : Create scatter and profile plots in target-file directory: \n",
      "--- TFHandler_PyGTB          : PyMVAOutput.root:/mymc-dataset/Method_PyGTB/PyGTB/CorrelationPlots\n",
      "--- Factory                  : Evaluate classifier: PyAdaBoost\n",
      "--- PyAdaBoost               : Dataset[mymc-dataset] : Loop over test events and fill histograms with classifier response...\n",
      "--- Factory                  : Write evaluation histograms to file\n",
      "--- TFHandler_PyAdaBoost     : Plot event variables for PyAdaBoost\n",
      "--- TFHandler_PyAdaBoost     : -----------------------------------------------------------\n",
      "--- TFHandler_PyAdaBoost     : Variable        Mean        RMS   [        Min        Max ]\n",
      "--- TFHandler_PyAdaBoost     : -----------------------------------------------------------\n",
      "--- TFHandler_PyAdaBoost     :     var0:     3.0511     1.6889   [   0.061879     9.9950 ]\n",
      "--- TFHandler_PyAdaBoost     :     var1:     1.6099     1.4314   [ 9.9424e-05     4.9956 ]\n",
      "--- TFHandler_PyAdaBoost     :     var2:     3.5015     1.2158   [ 0.00088645     4.9993 ]\n",
      "--- TFHandler_PyAdaBoost     :     var3:     1.4412     2.2459   [    -3.6483     9.9615 ]\n",
      "--- TFHandler_PyAdaBoost     :     var4:     10.770     7.6139   [ 0.00088366     48.019 ]\n",
      "--- TFHandler_PyAdaBoost     :     var5:     5.1113     1.8033   [    0.17973     9.9030 ]\n",
      "--- TFHandler_PyAdaBoost     : -----------------------------------------------------------\n",
      "--- TFHandler_PyAdaBoost     : Create scatter and profile plots in target-file directory: \n",
      "--- TFHandler_PyAdaBoost     : PyMVAOutput.root:/mymc-dataset/Method_PyAdaBoost/PyAdaBoost/CorrelationPlots\n",
      "--- Factory                  : \n",
      "--- Factory                  : Dataset[mymc-dataset] : Inter-MVA correlation matrix (signal):\n",
      "--- Factory                  : -------------------------------------------------\n",
      "--- Factory                  :                 PyRandomForest   PyGTB PyAdaBoost\n",
      "--- Factory                  : PyRandomForest:         +1.000  +0.892     +0.887\n",
      "--- Factory                  :          PyGTB:         +0.892  +1.000     +0.877\n",
      "--- Factory                  :     PyAdaBoost:         +0.887  +0.877     +1.000\n",
      "--- Factory                  : -------------------------------------------------\n",
      "--- Factory                  : \n",
      "--- Factory                  : Dataset[mymc-dataset] : Inter-MVA correlation matrix (background):\n",
      "--- Factory                  : -------------------------------------------------\n",
      "--- Factory                  :                 PyRandomForest   PyGTB PyAdaBoost\n",
      "--- Factory                  : PyRandomForest:         +1.000  +0.953     +0.741\n",
      "--- Factory                  :          PyGTB:         +0.953  +1.000     +0.771\n",
      "--- Factory                  :     PyAdaBoost:         +0.741  +0.771     +1.000\n",
      "--- Factory                  : -------------------------------------------------\n",
      "--- Factory                  : \n",
      "--- Factory                  : Dataset[mymc-dataset] : Correlations between input variables and MVA response (signal):\n",
      "--- Factory                  : -------------------------------------------------\n",
      "--- Factory                  :          PyRandomForest   PyGTB PyAdaBoost\n",
      "--- Factory                  :    var0:         +0.193  +0.254     +0.249\n",
      "--- Factory                  :    var1:         -0.340  -0.578     -0.359\n",
      "--- Factory                  :    var2:         +0.429  +0.424     +0.398\n",
      "--- Factory                  :    var3:         +0.343  +0.522     +0.401\n",
      "--- Factory                  :    var4:         +0.302  +0.361     +0.357\n",
      "--- Factory                  :    var5:         -0.027  -0.223     -0.060\n",
      "--- Factory                  : -------------------------------------------------\n",
      "--- Factory                  : \n",
      "--- Factory                  : Dataset[mymc-dataset] : Correlations between input variables and MVA response (background):\n",
      "--- Factory                  : -------------------------------------------------\n",
      "--- Factory                  :          PyRandomForest   PyGTB PyAdaBoost\n",
      "--- Factory                  :    var0:         -0.042  +0.091     +0.271\n",
      "--- Factory                  :    var1:         -0.609  -0.655     -0.685\n",
      "--- Factory                  :    var2:         +0.320  +0.314     +0.104\n",
      "--- Factory                  :    var3:         +0.432  +0.553     +0.691\n",
      "--- Factory                  :    var4:         +0.203  +0.293     +0.267\n",
      "--- Factory                  :    var5:         -0.226  -0.263     -0.424\n",
      "--- Factory                  : -------------------------------------------------\n",
      "--- Factory                  : \n",
      "--- Factory                  : Dataset[mymc-dataset] : The following \"overlap\" matrices contain the fraction of events for which \n",
      "--- Factory                  : Dataset[mymc-dataset] : the MVAs 'i' and 'j' have returned conform answers about \"signal-likeness\"\n",
      "--- Factory                  : Dataset[mymc-dataset] : An event is signal-like, if its MVA output exceeds the following value:\n",
      "--- Factory                  : -------------------------------\n",
      "--- Factory                  :         Method:      Cut value:\n",
      "--- Factory                  : -------------------------------\n",
      "--- Factory                  : PyRandomForest:         +0.532\n",
      "--- Factory                  :          PyGTB:         +0.528\n",
      "--- Factory                  :     PyAdaBoost:         +0.504\n",
      "--- Factory                  : -------------------------------\n",
      "--- Factory                  : Dataset[mymc-dataset] : which correspond to the working point: eff(signal) = 1 - eff(background)\n",
      "--- Factory                  : \n",
      "--- Factory                  : Dataset[mymc-dataset] : Inter-MVA overlap matrix (signal):\n",
      "--- Factory                  : -------------------------------------------------\n",
      "--- Factory                  :                 PyRandomForest   PyGTB PyAdaBoost\n",
      "--- Factory                  : PyRandomForest:         +1.000  +0.925     +0.923\n",
      "--- Factory                  :          PyGTB:         +0.925  +1.000     +0.911\n",
      "--- Factory                  :     PyAdaBoost:         +0.923  +0.911     +1.000\n",
      "--- Factory                  : -------------------------------------------------\n",
      "--- Factory                  : \n",
      "--- Factory                  : Dataset[mymc-dataset] : Inter-MVA overlap matrix (background):\n",
      "--- Factory                  : -------------------------------------------------\n",
      "--- Factory                  :                 PyRandomForest   PyGTB PyAdaBoost\n",
      "--- Factory                  : PyRandomForest:         +1.000  +0.939     +0.950\n",
      "--- Factory                  :          PyGTB:         +0.939  +1.000     +0.929\n",
      "--- Factory                  :     PyAdaBoost:         +0.950  +0.929     +1.000\n",
      "--- Factory                  : -------------------------------------------------\n",
      "--- Factory                  : \n",
      "--- Factory                  : Evaluation results ranked by best signal efficiency and purity (area)\n",
      "--- Factory                  : -------------------------------------------------------------------------------------------------------------------\n",
      "--- Factory                  : DataSet              MVA              Signal efficiency at bkg eff.(error):                | Sepa-    Signifi- \n",
      "--- Factory                  : Name:                Method:          @B=0.01    @B=0.10    @B=0.30    ROC-integ    ROCCurve| ration:  cance:   \n",
      "--- Factory                  : -------------------------------------------------------------------------------------------------------------------\n",
      "--- Factory                  : mymc-dataset         PyRandomForest : 0.217(10)  0.618(12)  0.911(07)    0.889       0.889 | 0.479    1.303\n",
      "--- Factory                  : mymc-dataset         PyAdaBoost     : 0.166(09)  0.540(13)  0.881(08)    0.875       0.855 | 0.456    0.879\n",
      "--- Factory                  : mymc-dataset         PyGTB          : 0.171(09)  0.501(13)  0.904(07)    0.873       0.866 | 0.460    1.197\n",
      "--- Factory                  : -------------------------------------------------------------------------------------------------------------------\n",
      "--- Factory                  : \n",
      "--- Factory                  : Testing efficiency compared to training efficiency (overtraining check)\n",
      "--- Factory                  : -------------------------------------------------------------------------------------------------------------------\n",
      "--- Factory                  : DataSet              MVA              Signal efficiency: from test sample (from training sample) \n",
      "--- Factory                  : Name:                Method:          @B=0.01             @B=0.10            @B=0.30   \n",
      "--- Factory                  : -------------------------------------------------------------------------------------------------------------------\n",
      "--- Factory                  : mymc-dataset         PyRandomForest : 0.217 (0.225)       0.618 (0.633)      0.911 (0.903)\n",
      "--- Factory                  : mymc-dataset         PyAdaBoost     : 0.166 (0.203)       0.540 (0.558)      0.881 (0.869)\n",
      "--- Factory                  : mymc-dataset         PyGTB          : 0.171 (0.201)       0.501 (0.497)      0.904 (0.892)\n",
      "--- Factory                  : -------------------------------------------------------------------------------------------------------------------\n",
      "--- Factory                  : \n",
      "--- Dataset:mymc-dataset     : Dataset[mymc-dataset] : Created tree 'TestTree' with 2898 events\n",
      "--- Dataset:mymc-dataset     : Dataset[mymc-dataset] : Created tree 'TrainTree' with 6000 events\n",
      "--- Factory                  :   \n",
      "--- Factory                  : \u001b[1mThank you for using TMVA!\u001b[0m\n",
      "--- Factory                  : \u001b[1mFor citation information, please visit: http://tmva.sf.net/citeTMVA.html\u001b[0m\n"
     ]
    }
   ],
   "source": [
    "factory->TestAllMethods();\n",
    "factory->EvaluateAllMethods();"
   ]
  },
  {
   "cell_type": "code",
   "execution_count": 8,
   "metadata": {
    "collapsed": false
   },
   "outputs": [
    {
     "name": "stdout",
     "output_type": "stream",
     "text": [
      "==> Wrote root file: PyMVAOutput.root\n",
      "==> TMVAClassification is done!\n"
     ]
    }
   ],
   "source": [
    "// Save the output\n",
    "outputFile->Close();\n",
    "\n",
    "std::cout << \"==> Wrote root file: \" << outputFile->GetName() << std::endl;\n",
    "std::cout << \"==> TMVAClassification is done!\" << std::endl;\n",
    "\n",
    "delete factory;\n",
    "delete loader;"
   ]
  },
  {
   "cell_type": "markdown",
   "metadata": {},
   "source": [
    "## Ploting ROC Curve"
   ]
  },
  {
   "cell_type": "code",
   "execution_count": 9,
   "metadata": {
    "collapsed": false
   },
   "outputs": [
    {
     "name": "stderr",
     "output_type": "stream",
     "text": [
      "TColor::TColor:0: RuntimeWarning: color 1367 already defined\n",
      "Info in <TCanvas::Print>: eps file plots/rejBvsS.eps has been created\n",
      "Info in <TCanvas::Print>: png file plots/rejBvsS.png has been created\n"
     ]
    },
    {
     "name": "stdout",
     "output_type": "stream",
     "text": [
      "--- Found 3 classifier types\n",
      "--- Found 1 instance(s) of the method Method_PyRandomForest\n",
      "--- Found 1 instance(s) of the method Method_PyGTB\n",
      "--- Found 1 instance(s) of the method Method_PyAdaBoost\n",
      "--- Found 3 classifier types\n",
      "--- Found 1 instance(s) of the method Method_PyRandomForest\n",
      "--- Found 1 instance(s) of the method Method_PyGTB\n",
      "--- Found 1 instance(s) of the method Method_PyAdaBoost\n",
      "--- --------------------------------------------------------------------\n",
      "--- If you want to save the image as eps, gif or png, please comment out \n",
      "--- the corresponding lines (line no. 239-241) in tmvaglob.C\n",
      "--- --------------------------------------------------------------------\n"
     ]
    },
    {
     "data": {
      "image/png": "[encoded data removed]",
      "text/plain": [
       "<IPython.core.display.Image object>"
      ]
     },
     "metadata": {},
     "output_type": "display_data"
    }
   ],
   "source": [
    "TFile *file=TFile::Open(\"PyMVAOutput.root\");\n",
    "gDirectory->cd(\"mymc-dataset\");\n",
    "\n",
    "TMVA::plot_efficiencies(file,  2,gDirectory);\n",
    "c->Draw();"
   ]
  },
  {
   "cell_type": "code",
   "execution_count": null,
   "metadata": {
    "collapsed": true
   },
   "outputs": [],
   "source": []
  }
 ],
 "metadata": {
  "kernelspec": {
   "display_name": "ROOT Prompt",
   "language": "c++",
   "name": "root"
  },
  "language_info": {
   "codemirror_mode": {
    "name": "ipython",
    "version": 2
   },
   "file_extension": ".py",
   "mimetype": "text/x-python",
   "name": "python",
   "nbconvert_exporter": "python",
   "pygments_lexer": "ipython2",
   "version": "2.7.9"
  }
 },
 "nbformat": 4,
 "nbformat_minor": 0
}
