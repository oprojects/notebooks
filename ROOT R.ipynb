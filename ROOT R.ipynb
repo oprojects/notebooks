{
 "cells": [
  {
   "cell_type": "markdown",
   "metadata": {},
   "source": [
    "<img src=\"http://oproject.org/tiki-download_file.php?fileId=6&display\">\n",
    "\n",
    "## includes"
   ]
  },
  {
   "cell_type": "code",
   "execution_count": null,
   "metadata": {
    "collapsed": false
   },
   "outputs": [],
   "source": [
    "#include<TRInterface.h>\n",
    "#include<TCanvas.h>\n",
    "#include<TGraph.h>\n",
    "#include<TRandom.h>\n",
    "#include<TMath.h>\n",
    "#include<TVectorD.h>\n",
    "\n",
    "ROOT::R::TRInterface &r=ROOT::R::TRInterface::Instance();"
   ]
  },
  {
   "cell_type": "markdown",
   "metadata": {},
   "source": [
    "### ROOTR Minimizer Example:\n",
    "Thisis a simple example using random points with gauss distribution. "
   ]
  },
  {
   "cell_type": "code",
   "execution_count": null,
   "metadata": {
    "collapsed": false
   },
   "outputs": [],
   "source": [
    "TCanvas  *c=new TCanvas(\"c\");\n",
    "TH1D h1(\"h1\",\"h1\",100,-3,3);\n",
    "h1.FillRandom(\"gaus\");\n",
    "ROOT::Math::MinimizerOptions::SetDefaultMinimizer(\"RMinimizer\",\"BFGS\");\n",
    "h1.Fit(\"gaus\");\n",
    "c->Draw();"
   ]
  },
  {
   "cell_type": "markdown",
   "metadata": {},
   "source": [
    "## Simple fitting in R and plot in ROOT\n",
    "The next example creates an exponential fit. \n",
    "The idea is to create a set of numbers x,y with noise from ROOT, \n",
    "pass them to R and fit the data to x^3 using nls(Nonlinear Least Squares), \n",
    "get the fitted coefficient(power) and plot the data, \n",
    "the known function and the fitted function using ROOT's classes."
   ]
  },
  {
   "cell_type": "code",
   "execution_count": null,
   "metadata": {
    "collapsed": false
   },
   "outputs": [],
   "source": [
    "TCanvas *c1 = new TCanvas(\"c1\",\"Curve Fitting\",700,500);\n",
    "c1->SetGrid();\n",
    "// draw a frame to define the range\n",
    "TMultiGraph *mg = new TMultiGraph();\n",
    "const Int_t n = 24;\n",
    "Double_t x[n] ;\n",
    "Double_t y[n] ;"
   ]
  },
  {
   "cell_type": "markdown",
   "metadata": {},
   "source": [
    "## Creating data\n",
    "Generate the points along a $X^3$ with noise\n",
    "and creating the first graph (points with gaussian noise)"
   ]
  },
  {
   "cell_type": "code",
   "execution_count": null,
   "metadata": {
    "collapsed": false
   },
   "outputs": [],
   "source": [
    "TRandom rg;\n",
    "rg.SetSeed(520);\n",
    "for (Int_t i = 0; i < n; i++) {\n",
    "      x[i] = rg.Uniform(0, 1);\n",
    "      y[i] = TMath::Power(x[i], 3) + rg.Gaus() * 0.06;\n",
    "}\n",
    "\n",
    "TGraph *gr1 = new TGraph(n,x,y);\n",
    "gr1->SetMarkerColor(kBlue);\n",
    "gr1->SetMarkerStyle(8);\n",
    "gr1->SetMarkerSize(1);\n",
    "mg->Add(gr1);"
   ]
  },
  {
   "cell_type": "markdown",
   "metadata": {},
   "source": [
    "## Ploting\n",
    "creating the second plot"
   ]
  },
  {
   "cell_type": "code",
   "execution_count": null,
   "metadata": {
    "collapsed": false
   },
   "outputs": [],
   "source": [
    "TF1 *f_known=new TF1(\"f_known\",\"pow(x,3)\",0,1);\n",
    "TGraph *gr2 = new TGraph(f_known);\n",
    "gr2->SetMarkerColor(kRed);\n",
    "gr2->SetMarkerStyle(8);\n",
    "gr2->SetMarkerSize(1);\n",
    "mg->Add(gr2);"
   ]
  },
  {
   "cell_type": "markdown",
   "metadata": {},
   "source": [
    "## Passing Data to R environment\n",
    "passing data to R for fitting"
   ]
  },
  {
   "cell_type": "code",
   "execution_count": null,
   "metadata": {
    "collapsed": false
   },
   "outputs": [],
   "source": [
    "TVectorD vx(n, x);\n",
    "TVectorD vy(n, y);\n",
    "r[\"x\"]=vx;\n",
    "r[\"y\"]=vy;\n",
    "r<<\"ds<-data.frame(x=x,y=y)\";"
   ]
  },
  {
   "cell_type": "markdown",
   "metadata": {},
   "source": [
    "## Fitting using NLS(Nonlinear Least Squares)"
   ]
  },
  {
   "cell_type": "code",
   "execution_count": null,
   "metadata": {
    "collapsed": false,
    "scrolled": true
   },
   "outputs": [],
   "source": [
    "r<<\"m <- nls(y ~ I(x^power),data = ds, start = list(power = 1),trace = T)\";"
   ]
  },
  {
   "cell_type": "code",
   "execution_count": null,
   "metadata": {
    "collapsed": true
   },
   "outputs": [],
   "source": [
    "Double_t power;\n",
    "r[\"summary(m)$coefficients[1]\"]>>power;"
   ]
  },
  {
   "cell_type": "markdown",
   "metadata": {},
   "source": [
    "## Ploting\n",
    "plotting the fitted function"
   ]
  },
  {
   "cell_type": "code",
   "execution_count": null,
   "metadata": {
    "collapsed": false
   },
   "outputs": [],
   "source": [
    "TF1 *f_fitted=new TF1(\"f_fitted\",\"pow(x,[0])\",0,1);\n",
    "f_fitted->SetParameter(0,power);\n",
    "\n",
    "TGraph *gr3 = new TGraph(f_fitted);\n",
    "gr3->SetMarkerColor(kGreen);\n",
    "gr3->SetMarkerStyle(8);\n",
    "gr3->SetMarkerSize(1);\n",
    "\n",
    "mg->Add(gr3);\n",
    "mg->Draw(\"ap\");\n",
    "TPaveText *pt = new TPaveText(0.1,0.6,0.5,0.9,\"brNDC\");\n",
    "pt->SetFillColor(18);\n",
    "pt->SetTextAlign(12);\n",
    "pt->AddText(\"Fitting x^power \");\n",
    "pt->AddText(\" \\\"Blue\\\"   Points with gaussian noise to be fitted\");\n",
    "pt->AddText(\" \\\"Red\\\"    Known function x^3\");\n",
    "TString fmsg;\n",
    "fmsg.Form(\" \\\"Green\\\"  Fitted function with power=%.4lf\",power);\n",
    "pt->AddText(fmsg);\n",
    "pt->Draw();   \n",
    "c1->Update();\n",
    "c1->Draw();"
   ]
  },
  {
   "cell_type": "code",
   "execution_count": null,
   "metadata": {
    "collapsed": false
   },
   "outputs": [],
   "source": []
  }
 ],
 "metadata": {
  "kernelspec": {
   "display_name": "ROOT Prompt",
   "language": "c++",
   "name": "root"
  },
  "language_info": {
   "codemirror_mode": {
    "name": "ipython",
    "version": 2
   },
   "file_extension": ".py",
   "mimetype": "text/x-python",
   "name": "python",
   "nbconvert_exporter": "python",
   "pygments_lexer": "ipython2",
   "version": "2.7.9"
  }
 },
 "nbformat": 4,
 "nbformat_minor": 0
}
