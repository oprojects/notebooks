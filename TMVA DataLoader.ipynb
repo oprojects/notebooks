{
 "cells": [
  {
   "cell_type": "markdown",
   "metadata": {},
   "source": [
    "<img src=\"http://oproject.org/tiki-download_file.php?fileId=8&display&x=450&y=128\">\n",
    "<img src=\"http://gfif.udea.edu.co/root/tmva/img/tmva_logo.gif\">\n",
    "\n",
    "## Required header files"
   ]
  },
  {
   "cell_type": "code",
   "execution_count": null,
   "metadata": {
    "collapsed": true
   },
   "outputs": [],
   "source": [
    "#include <iostream>\n",
    "#include \"TChain.h\"\n",
    "#include \"TFile.h\"\n",
    "#include \"TTree.h\"\n",
    "#include \"TString.h\"\n",
    "#include \"TSystem.h\"\n",
    "#include \"TROOT.h\"\n",
    "\n",
    "#include \"TMVA/Factory.h\"\n",
    "#include \"TMVA/Tools.h\"\n",
    "#include \"TMVA/DataLoader.h\""
   ]
  },
  {
   "cell_type": "markdown",
   "metadata": {},
   "source": [
    "## Declare Factory and DataLoader"
   ]
  },
  {
   "cell_type": "code",
   "execution_count": null,
   "metadata": {
    "collapsed": false
   },
   "outputs": [],
   "source": [
    "TMVA::Tools::Instance();\n",
    "\n",
    "TString outfileName( \"TMVAOutputDL.root\" );\n",
    "TFile* outputFile = TFile::Open( outfileName, \"RECREATE\" );\n",
    "\n",
    "TMVA::Factory *factory = new TMVA::Factory( \"TMVAClassification\", outputFile,                                       \"!V:ROC:!Correlations:!Silent:Color:!DrawProgressBar:AnalysisType=Classification\" );\n",
    "   \n",
    "TMVA::DataLoader *loader1=new TMVA::DataLoader(\"mymc-dataset1\");\n",
    "TMVA::DataLoader *loader2=new TMVA::DataLoader(\"mymc-dataset2\");\n",
    "TFile *input = TFile::Open( \"MyMCdataset.root\");                "
   ]
  },
  {
   "cell_type": "markdown",
   "metadata": {},
   "source": [
    "## Adding variables to DataLoader"
   ]
  },
  {
   "cell_type": "code",
   "execution_count": null,
   "metadata": {
    "collapsed": true
   },
   "outputs": [],
   "source": [
    "//adding variables to dataset 1\n",
    "loader1->AddVariable( \"var0\", 'F' );\n",
    "loader1->AddVariable( \"var1\", 'F' );\n",
    "loader1->AddVariable( \"var2\", 'F' );\n",
    "\n",
    "//adding variables to dataset 2\n",
    "loader2->AddVariable( \"var0\", 'F' );\n",
    "loader2->AddVariable( \"var1\", 'F' );\n",
    "loader2->AddVariable( \"var2\", 'F' );\n",
    "loader2->AddVariable( \"var3 := var0-var1\", 'F' );\n",
    "loader2->AddVariable( \"var4 := var0*var2\", 'F' );\n",
    "loader2->AddVariable( \"var5 := var1+var2\", 'F' );"
   ]
  },
  {
   "cell_type": "markdown",
   "metadata": {},
   "source": [
    "## Setting up dataset from Trees"
   ]
  },
  {
   "cell_type": "code",
   "execution_count": null,
   "metadata": {
    "collapsed": false
   },
   "outputs": [],
   "source": [
    "std::cout << \"--- TMVAClassification       : Using input file: \" << input->GetName() << std::endl;\n",
    "   \n",
    "// --- Register the training and test trees\n",
    "\n",
    "TTree *tsignal     = (TTree*)input->Get(\"MyMCSig\");\n",
    "TTree *tbackground = (TTree*)input->Get(\"MyMCBkg\");\n",
    "   \n",
    "Double_t signalWeight     = 1.0;\n",
    "Double_t backgroundWeight = 1.0;\n",
    "\n",
    "TCut mycuts = \"\";\n",
    "TCut mycutb = \"\";\n",
    "   \n",
    "loader1->AddSignalTree    ( tsignal,     signalWeight     );\n",
    "loader1->AddBackgroundTree( tbackground, backgroundWeight );       \n",
    "loader1->fSignalWeight=signalWeight;\n",
    "loader1->fBackgroundWeight=backgroundWeight;\n",
    "loader1->fTreeS=tsignal;\n",
    "loader1->fTreeB=tbackground;\n",
    "loader1->PrepareTrainingAndTestTree( mycuts, mycutb,  \"nTrain_Signal=3000:nTrain_Background=3000:nTest_Signal=1449:nTest_Background=1449:SplitMode=Random:NormMode=NumEvents:!V\" ); \n",
    "\n",
    "\n",
    "loader2->AddSignalTree    ( tsignal,     signalWeight     );\n",
    "loader2->AddBackgroundTree( tbackground, backgroundWeight );       \n",
    "loader2->fSignalWeight=signalWeight;\n",
    "loader2->fBackgroundWeight=backgroundWeight;\n",
    "loader2->fTreeS=tsignal;\n",
    "loader2->fTreeB=tbackground;\n",
    "loader2->PrepareTrainingAndTestTree( mycuts, mycutb,  \"nTrain_Signal=3000:nTrain_Background=3000:nTest_Signal=1449:nTest_Background=1449:SplitMode=Random:NormMode=NumEvents:!V\" );   \n"
   ]
  },
  {
   "cell_type": "markdown",
   "metadata": {},
   "source": [
    "// TMVA ANN: MLP (recommended ANN) -- all ANNs in TMVA are Multilayer Perceptrons\n",
    "factory->BookMethod( loader2,TMVA::Types::kMLP, \"MLP\", \"!V:NeuronType=tanh:VarTransform=N:NCycles=50:HiddenLayers=N+5:TestRate=5:!UseRegulator\" );## Booking Methods using different DataLoaders"
   ]
  },
  {
   "cell_type": "code",
   "execution_count": null,
   "metadata": {
    "collapsed": false
   },
   "outputs": [],
   "source": [
    "// TMVA ANN: MLP Multilayer Perceptrons\n",
    "factory->BookMethod(loader1,TMVA::Types::kMLP, \"MLP\", \"!V:NeuronType=tanh:VarTransform=N:NCycles=150:HiddenLayers=N+5:TestRate=5:!UseRegulator\" );\n",
    "\n",
    "//Boosted Decision Trees\n",
    "factory->BookMethod(loader2,TMVA::Types::kBDT, \"BDT\",\"!V:NTrees=5:MinNodeSize=2.5%:MaxDepth=2:BoostType=AdaBoost:AdaBoostBeta=0.5:UseBaggedBoost:BaggedSampleFraction=0.5:SeparationType=GiniIndex:nCuts=20\" );"
   ]
  },
  {
   "cell_type": "markdown",
   "metadata": {},
   "source": [
    "## Training the Methods"
   ]
  },
  {
   "cell_type": "code",
   "execution_count": null,
   "metadata": {
    "collapsed": false
   },
   "outputs": [],
   "source": [
    "factory->TrainAllMethods();"
   ]
  },
  {
   "cell_type": "markdown",
   "metadata": {},
   "source": [
    "## Testing and Evaluating the data"
   ]
  },
  {
   "cell_type": "code",
   "execution_count": null,
   "metadata": {
    "collapsed": false
   },
   "outputs": [],
   "source": [
    "factory->TestAllMethods();\n",
    "\n",
    "factory->EvaluateAllMethods();    \n",
    "\n",
    "// Save the output\n",
    "outputFile->Close();\n",
    "\n",
    "std::cout << \"==> TMVAClassification is done!\" << std::endl;\n",
    "\n",
    "delete factory;\n",
    "delete loader1;\n",
    "delete loader2;"
   ]
  },
  {
   "cell_type": "markdown",
   "metadata": {},
   "source": [
    "## Ploting ROC Curve"
   ]
  },
  {
   "cell_type": "code",
   "execution_count": null,
   "metadata": {
    "collapsed": false
   },
   "outputs": [],
   "source": [
    "TFile *file=TFile::Open(\"TMVAOutputDL.root\");\n",
    "\n",
    "gDirectory->cd(\"mymc-dataset1\");\n",
    "TMVA::plot_efficiencies(file,  2,gDirectory);\n",
    "c->Draw();"
   ]
  },
  {
   "cell_type": "code",
   "execution_count": null,
   "metadata": {
    "collapsed": false
   },
   "outputs": [],
   "source": [
    "if(c) delete c;\n",
    "file->cd();\n",
    "gDirectory->cd(\"mymc-dataset2\");\n",
    "TMVA::plot_efficiencies(file,  2,gDirectory);\n",
    "c->Draw();"
   ]
  },
  {
   "cell_type": "code",
   "execution_count": null,
   "metadata": {
    "collapsed": true
   },
   "outputs": [],
   "source": []
  }
 ],
 "metadata": {
  "kernelspec": {
   "display_name": "ROOT Prompt",
   "language": "c++",
   "name": "root"
  },
  "language_info": {
   "codemirror_mode": {
    "name": "ipython",
    "version": 2
   },
   "file_extension": ".py",
   "mimetype": "text/x-python",
   "name": "python",
   "nbconvert_exporter": "python",
   "pygments_lexer": "ipython2",
   "version": "2.7.9"
  }
 },
 "nbformat": 4,
 "nbformat_minor": 0
}
