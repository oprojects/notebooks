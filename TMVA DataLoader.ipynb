{
 "cells": [
  {
   "cell_type": "markdown",
   "metadata": {},
   "source": [
    "<img src=\"http://oproject.org/tiki-download_file.php?fileId=8&display&x=450&y=128\">\n",
    "<img src=\"http://gfif.udea.edu.co/root/tmva/img/tmva_logo.gif\">\n",
    "\n",
    "## Required header files"
   ]
  },
  {
   "cell_type": "code",
   "execution_count": 1,
   "metadata": {
    "collapsed": false
   },
   "outputs": [],
   "source": [
    "#include <iostream>\n",
    "#include \"TChain.h\"\n",
    "#include \"TFile.h\"\n",
    "#include \"TTree.h\"\n",
    "#include \"TString.h\"\n",
    "#include \"TSystem.h\"\n",
    "#include \"TROOT.h\"\n",
    "\n",
    "#include \"TMVA/Factory.h\"\n",
    "#include \"TMVA/Tools.h\"\n",
    "#include \"TMVA/DataLoader.h\""
   ]
  },
  {
   "cell_type": "markdown",
   "metadata": {},
   "source": [
    "## Declare Factory and DataLoader"
   ]
  },
  {
   "cell_type": "code",
   "execution_count": 2,
   "metadata": {
    "collapsed": false
   },
   "outputs": [
    {
     "name": "stdout",
     "output_type": "stream",
     "text": [
      "--- Factory                  : You are running ROOT Version: 6.05/03, Sep 14, 2015\n",
      "--- Factory                  : \n",
      "--- Factory                  : _/_/_/_/_/ _|      _|  _|      _|    _|_|   \n",
      "--- Factory                  :    _/      _|_|  _|_|  _|      _|  _|    _| \n",
      "--- Factory                  :   _/       _|  _|  _|  _|      _|  _|_|_|_| \n",
      "--- Factory                  :  _/        _|      _|    _|  _|    _|    _| \n",
      "--- Factory                  : _/         _|      _|      _|      _|    _| \n",
      "--- Factory                  : \n",
      "--- Factory                  : ___________TMVA Version 5.0.0 alpha, Oct 30, 2015\n",
      "--- Factory                  : \n"
     ]
    }
   ],
   "source": [
    "TMVA::Tools::Instance();\n",
    "\n",
    "TString outfileName( \"TMVAOutputDL.root\" );\n",
    "TFile* outputFile = TFile::Open( outfileName, \"RECREATE\" );\n",
    "\n",
    "TMVA::Factory *factory = new TMVA::Factory( \"TMVAClassification\", outputFile,                                       \"!V:ROC:!Correlations:!Silent:Color:!DrawProgressBar:AnalysisType=Classification\" );\n",
    "   \n",
    "TMVA::DataLoader *loader1=new TMVA::DataLoader(\"mymc-dataset1\");\n",
    "TMVA::DataLoader *loader2=new TMVA::DataLoader(\"mymc-dataset2\");\n",
    "TFile *input = TFile::Open( \"MyMCdataset.root\");                "
   ]
  },
  {
   "cell_type": "markdown",
   "metadata": {},
   "source": [
    "## Adding variables to DataLoader"
   ]
  },
  {
   "cell_type": "code",
   "execution_count": 3,
   "metadata": {
    "collapsed": true
   },
   "outputs": [],
   "source": [
    "//adding variables to dataset 1\n",
    "loader1->AddVariable( \"var0\", 'F' );\n",
    "loader1->AddVariable( \"var1\", 'F' );\n",
    "loader1->AddVariable( \"var2\", 'F' );\n",
    "\n",
    "//adding variables to dataset 2\n",
    "loader2->AddVariable( \"var0\", 'F' );\n",
    "loader2->AddVariable( \"var1\", 'F' );\n",
    "loader2->AddVariable( \"var2\", 'F' );\n",
    "loader2->AddVariable( \"var3 := var0-var1\", 'F' );\n",
    "loader2->AddVariable( \"var4 := var0*var2\", 'F' );\n",
    "loader2->AddVariable( \"var5 := var1+var2\", 'F' );"
   ]
  },
  {
   "cell_type": "markdown",
   "metadata": {},
   "source": [
    "## Setting up dataset from Trees"
   ]
  },
  {
   "cell_type": "code",
   "execution_count": 4,
   "metadata": {
    "collapsed": false
   },
   "outputs": [
    {
     "name": "stdout",
     "output_type": "stream",
     "text": [
      "--- TMVAClassification       : Using input file: MyMCdataset.root\n",
      "--- DataSetInfo              : Dataset[mymc-dataset1] : Added class \"Signal\"\t with internal class number 0\n",
      "--- mymc-dataset1            : Add Tree MyMCSig of type Signal with 5449 events\n",
      "--- DataSetInfo              : Dataset[mymc-dataset1] : Added class \"Background\"\t with internal class number 1\n",
      "--- mymc-dataset1            : Add Tree MyMCBkg of type Background with 5449 events\n",
      "--- mymc-dataset1            : Preparing trees for training and testing...\n",
      "--- DataSetInfo              : Dataset[mymc-dataset2] : Added class \"Signal\"\t with internal class number 0\n",
      "--- mymc-dataset2            : Add Tree MyMCSig of type Signal with 5449 events\n",
      "--- DataSetInfo              : Dataset[mymc-dataset2] : Added class \"Background\"\t with internal class number 1\n",
      "--- mymc-dataset2            : Add Tree MyMCBkg of type Background with 5449 events\n",
      "--- mymc-dataset2            : Preparing trees for training and testing...\n"
     ]
    }
   ],
   "source": [
    "std::cout << \"--- TMVAClassification       : Using input file: \" << input->GetName() << std::endl;\n",
    "   \n",
    "// --- Register the training and test trees\n",
    "\n",
    "TTree *tsignal     = (TTree*)input->Get(\"MyMCSig\");\n",
    "TTree *tbackground = (TTree*)input->Get(\"MyMCBkg\");\n",
    "   \n",
    "Double_t signalWeight     = 1.0;\n",
    "Double_t backgroundWeight = 1.0;\n",
    "\n",
    "TCut mycuts = \"\";\n",
    "TCut mycutb = \"\";\n",
    "   \n",
    "loader1->AddSignalTree    ( tsignal,     signalWeight     );\n",
    "loader1->AddBackgroundTree( tbackground, backgroundWeight );       \n",
    "loader1->fSignalWeight=signalWeight;\n",
    "loader1->fBackgroundWeight=backgroundWeight;\n",
    "loader1->fTreeS=tsignal;\n",
    "loader1->fTreeB=tbackground;\n",
    "loader1->PrepareTrainingAndTestTree( mycuts, mycutb,  \"nTrain_Signal=3000:nTrain_Background=3000:nTest_Signal=1449:nTest_Background=1449:SplitMode=Random:NormMode=NumEvents:!V\" ); \n",
    "\n",
    "\n",
    "loader2->AddSignalTree    ( tsignal,     signalWeight     );\n",
    "loader2->AddBackgroundTree( tbackground, backgroundWeight );       \n",
    "loader2->fSignalWeight=signalWeight;\n",
    "loader2->fBackgroundWeight=backgroundWeight;\n",
    "loader2->fTreeS=tsignal;\n",
    "loader2->fTreeB=tbackground;\n",
    "loader2->PrepareTrainingAndTestTree( mycuts, mycutb,  \"nTrain_Signal=3000:nTrain_Background=3000:nTest_Signal=1449:nTest_Background=1449:SplitMode=Random:NormMode=NumEvents:!V\" );   \n"
   ]
  },
  {
   "cell_type": "markdown",
   "metadata": {},
   "source": [
    "// TMVA ANN: MLP (recommended ANN) -- all ANNs in TMVA are Multilayer Perceptrons\n",
    "factory->BookMethod( loader2,TMVA::Types::kMLP, \"MLP\", \"!V:NeuronType=tanh:VarTransform=N:NCycles=50:HiddenLayers=N+5:TestRate=5:!UseRegulator\" );## Booking Methods using different DataLoaders"
   ]
  },
  {
   "cell_type": "code",
   "execution_count": 5,
   "metadata": {
    "collapsed": false
   },
   "outputs": [
    {
     "name": "stdout",
     "output_type": "stream",
     "text": [
      "--- Factory                  : Booking method: \u001b[1mMLP\u001b[0m DataSet Name: \u001b[1mmymc-dataset1\u001b[0m\n",
      "--- MLP                      : Dataset[mymc-dataset1] : Create Transformation \"N\" with events from all classes.\n",
      "--- Norm                     : Transformation, Variable selection : \n",
      "--- Norm                     : Input : variable 'var0' (index=0).   <---> Output : variable 'var0' (index=0).\n",
      "--- Norm                     : Input : variable 'var1' (index=1).   <---> Output : variable 'var1' (index=1).\n",
      "--- Norm                     : Input : variable 'var2' (index=2).   <---> Output : variable 'var2' (index=2).\n",
      "--- MLP                      : Building Network\n",
      "--- MLP                      : Initializing weights\n",
      "--- Factory                  : Booking method: \u001b[1mBDT\u001b[0m DataSet Name: \u001b[1mmymc-dataset2\u001b[0m\n",
      "--- DataSetFactory           : Dataset[mymc-dataset2] : Splitmode is: \"RANDOM\" the mixmode is: \"SAMEASSPLITMODE\"\n",
      "--- DataSetFactory           : Dataset[mymc-dataset2] : Create training and testing trees -- looping over class \"Signal\" ...\n",
      "--- DataSetFactory           : Dataset[mymc-dataset2] : Weight expression for class 'Signal': \"\"\n",
      "--- DataSetFactory           : Dataset[mymc-dataset2] : Create training and testing trees -- looping over class \"Background\" ...\n",
      "--- DataSetFactory           : Dataset[mymc-dataset2] : Weight expression for class 'Background': \"\"\n",
      "--- DataSetFactory           : Dataset[mymc-dataset2] : Number of events in input trees (after possible flattening of arrays):\n",
      "--- DataSetFactory           : Dataset[mymc-dataset2] :     Signal          -- number of events       : 5449   / sum of weights: 5449 \n",
      "--- DataSetFactory           : Dataset[mymc-dataset2] :     Background      -- number of events       : 5449   / sum of weights: 5449 \n",
      "--- DataSetFactory           : Dataset[mymc-dataset2] :     Signal     tree -- total number of entries: 5449 \n",
      "--- DataSetFactory           : Dataset[mymc-dataset2] :     Background tree -- total number of entries: 5449 \n",
      "--- DataSetFactory           : Dataset[mymc-dataset2] : Preselection: (will NOT affect number of requested training and testing events)\n",
      "--- DataSetFactory           : Dataset[mymc-dataset2] :     No preselection cuts applied on event classes\n",
      "--- DataSetFactory           : Dataset[mymc-dataset2] : Weight renormalisation mode: \"NumEvents\": renormalises all event classes \n",
      "--- DataSetFactory           : Dataset[mymc-dataset2] :  such that the effective (weighted) number of events in each class equals the respective \n",
      "--- DataSetFactory           : Dataset[mymc-dataset2] :  number of events (entries) that you demanded in PrepareTrainingAndTestTree(\"\",\"nTrain_Signal=.. )\n",
      "--- DataSetFactory           : Dataset[mymc-dataset2] :  ... i.e. such that Sum[i=1..N_j]{w_i} = N_j, j=0,1,2...\n",
      "--- DataSetFactory           : Dataset[mymc-dataset2] :  ... (note that N_j is the sum of TRAINING events (nTrain_j...with j=Signal,Background..\n",
      "--- DataSetFactory           : Dataset[mymc-dataset2] :  ..... Testing events are not renormalised nor included in the renormalisation factor! )\n",
      "--- DataSetFactory           : Dataset[mymc-dataset2] : --> Rescale Signal     event weights by factor: 1\n",
      "--- DataSetFactory           : Dataset[mymc-dataset2] : --> Rescale Background event weights by factor: 1\n",
      "--- DataSetFactory           : Dataset[mymc-dataset2] : Number of training and testing events after rescaling:\n",
      "--- DataSetFactory           : Dataset[mymc-dataset2] : ---------------------------------------------------------------------------\n",
      "--- DataSetFactory           : Dataset[mymc-dataset2] : Signal     -- training events            : 3000 (sum of weights: 3000) - requested were 3000 events\n",
      "--- DataSetFactory           : Dataset[mymc-dataset2] : Signal     -- testing events             : 1449 (sum of weights: 1449) - requested were 1449 events\n",
      "--- DataSetFactory           : Dataset[mymc-dataset2] : Signal     -- training and testing events: 4449 (sum of weights: 4449)\n",
      "--- DataSetFactory           : Dataset[mymc-dataset2] : Background -- training events            : 3000 (sum of weights: 3000) - requested were 3000 events\n",
      "--- DataSetFactory           : Dataset[mymc-dataset2] : Background -- testing events             : 1449 (sum of weights: 1449) - requested were 1449 events\n",
      "--- DataSetFactory           : Dataset[mymc-dataset2] : Background -- training and testing events: 4449 (sum of weights: 4449)\n",
      "--- DataSetFactory           : Dataset[mymc-dataset2] : Create internal training tree\n",
      "--- DataSetFactory           : Dataset[mymc-dataset2] : Create internal testing tree\n",
      "--- DataSetInfo              : Dataset[mymc-dataset2] : Correlation matrix (Signal):\n",
      "--- DataSetInfo              : ----------------------------------------------------------------\n",
      "--- DataSetInfo              :               var0    var1    var2 var0-var1 var0*var2 var1+var2\n",
      "--- DataSetInfo              :      var0:  +1.000  -0.008  +0.012    +0.857    +0.922    +0.001\n",
      "--- DataSetInfo              :      var1:  -0.008  +1.000  +0.028    -0.521    +0.003    +0.810\n",
      "--- DataSetInfo              :      var2:  +0.012  +0.028  +1.000    -0.004    +0.331    +0.609\n",
      "--- DataSetInfo              : var0-var1:  +0.857  -0.521  -0.004    +1.000    +0.785    -0.416\n",
      "--- DataSetInfo              : var0*var2:  +0.922  +0.003  +0.331    +0.785    +1.000    +0.197\n",
      "--- DataSetInfo              : var1+var2:  +0.001  +0.810  +0.609    -0.416    +0.197    +1.000\n",
      "--- DataSetInfo              : ----------------------------------------------------------------\n",
      "--- DataSetInfo              : Dataset[mymc-dataset2] : Correlation matrix (Background):\n",
      "--- DataSetInfo              : ----------------------------------------------------------------\n",
      "--- DataSetInfo              :               var0    var1    var2 var0-var1 var0*var2 var1+var2\n",
      "--- DataSetInfo              :      var0:  +1.000  -0.008  -0.004    +0.652    +0.664    -0.009\n",
      "--- DataSetInfo              :      var1:  -0.008  +1.000  +0.031    -0.764    +0.018    +0.746\n",
      "--- DataSetInfo              :      var2:  -0.004  +0.031  +1.000    -0.026    +0.692    +0.688\n",
      "--- DataSetInfo              : var0-var1:  +0.652  -0.764  -0.026    +1.000    +0.415    -0.572\n",
      "--- DataSetInfo              : var0*var2:  +0.664  +0.018  +0.692    +0.415    +1.000    +0.474\n",
      "--- DataSetInfo              : var1+var2:  -0.009  +0.746  +0.688    -0.572    +0.474    +1.000\n",
      "--- DataSetInfo              : ----------------------------------------------------------------\n",
      "--- DataSetFactory           : Dataset[mymc-dataset2] :  \n"
     ]
    }
   ],
   "source": [
    "// TMVA ANN: MLP Multilayer Perceptrons\n",
    "factory->BookMethod(loader1,TMVA::Types::kMLP, \"MLP\", \"!V:NeuronType=tanh:VarTransform=N:NCycles=150:HiddenLayers=N+5:TestRate=5:!UseRegulator\" );\n",
    "\n",
    "//Boosted Decision Trees\n",
    "factory->BookMethod(loader2,TMVA::Types::kBDT, \"BDT\",\"!V:NTrees=5:MinNodeSize=2.5%:MaxDepth=2:BoostType=AdaBoost:AdaBoostBeta=0.5:UseBaggedBoost:BaggedSampleFraction=0.5:SeparationType=GiniIndex:nCuts=20\" );"
   ]
  },
  {
   "cell_type": "markdown",
   "metadata": {},
   "source": [
    "## Training the Methods"
   ]
  },
  {
   "cell_type": "code",
   "execution_count": 6,
   "metadata": {
    "collapsed": false
   },
   "outputs": [
    {
     "name": "stdout",
     "output_type": "stream",
     "text": [
      "--- Factory                  :  \n",
      "--- Factory                  : Train all methods for Classification ...\n",
      "--- DataSetFactory           : Dataset[mymc-dataset1] : Splitmode is: \"RANDOM\" the mixmode is: \"SAMEASSPLITMODE\"\n",
      "--- DataSetFactory           : Dataset[mymc-dataset1] : Create training and testing trees -- looping over class \"Signal\" ...\n",
      "--- DataSetFactory           : Dataset[mymc-dataset1] : Weight expression for class 'Signal': \"\"\n",
      "--- DataSetFactory           : Dataset[mymc-dataset1] : Create training and testing trees -- looping over class \"Background\" ...\n",
      "--- DataSetFactory           : Dataset[mymc-dataset1] : Weight expression for class 'Background': \"\"\n",
      "--- DataSetFactory           : Dataset[mymc-dataset1] : Number of events in input trees (after possible flattening of arrays):\n",
      "--- DataSetFactory           : Dataset[mymc-dataset1] :     Signal          -- number of events       : 5449   / sum of weights: 5449 \n",
      "--- DataSetFactory           : Dataset[mymc-dataset1] :     Background      -- number of events       : 5449   / sum of weights: 5449 \n",
      "--- DataSetFactory           : Dataset[mymc-dataset1] :     Signal     tree -- total number of entries: 5449 \n",
      "--- DataSetFactory           : Dataset[mymc-dataset1] :     Background tree -- total number of entries: 5449 \n",
      "--- DataSetFactory           : Dataset[mymc-dataset1] : Preselection: (will NOT affect number of requested training and testing events)\n",
      "--- DataSetFactory           : Dataset[mymc-dataset1] :     No preselection cuts applied on event classes\n",
      "--- DataSetFactory           : Dataset[mymc-dataset1] : Weight renormalisation mode: \"NumEvents\": renormalises all event classes \n",
      "--- DataSetFactory           : Dataset[mymc-dataset1] :  such that the effective (weighted) number of events in each class equals the respective \n",
      "--- DataSetFactory           : Dataset[mymc-dataset1] :  number of events (entries) that you demanded in PrepareTrainingAndTestTree(\"\",\"nTrain_Signal=.. )\n",
      "--- DataSetFactory           : Dataset[mymc-dataset1] :  ... i.e. such that Sum[i=1..N_j]{w_i} = N_j, j=0,1,2...\n",
      "--- DataSetFactory           : Dataset[mymc-dataset1] :  ... (note that N_j is the sum of TRAINING events (nTrain_j...with j=Signal,Background..\n",
      "--- DataSetFactory           : Dataset[mymc-dataset1] :  ..... Testing events are not renormalised nor included in the renormalisation factor! )\n",
      "--- DataSetFactory           : Dataset[mymc-dataset1] : --> Rescale Signal     event weights by factor: 1\n",
      "--- DataSetFactory           : Dataset[mymc-dataset1] : --> Rescale Background event weights by factor: 1\n",
      "--- DataSetFactory           : Dataset[mymc-dataset1] : Number of training and testing events after rescaling:\n",
      "--- DataSetFactory           : Dataset[mymc-dataset1] : ---------------------------------------------------------------------------\n",
      "--- DataSetFactory           : Dataset[mymc-dataset1] : Signal     -- training events            : 3000 (sum of weights: 3000) - requested were 3000 events\n",
      "--- DataSetFactory           : Dataset[mymc-dataset1] : Signal     -- testing events             : 1449 (sum of weights: 1449) - requested were 1449 events\n",
      "--- DataSetFactory           : Dataset[mymc-dataset1] : Signal     -- training and testing events: 4449 (sum of weights: 4449)\n",
      "--- DataSetFactory           : Dataset[mymc-dataset1] : Background -- training events            : 3000 (sum of weights: 3000) - requested were 3000 events\n",
      "--- DataSetFactory           : Dataset[mymc-dataset1] : Background -- testing events             : 1449 (sum of weights: 1449) - requested were 1449 events\n",
      "--- DataSetFactory           : Dataset[mymc-dataset1] : Background -- training and testing events: 4449 (sum of weights: 4449)\n",
      "--- DataSetFactory           : Dataset[mymc-dataset1] : Create internal training tree\n",
      "--- DataSetFactory           : Dataset[mymc-dataset1] : Create internal testing tree\n",
      "--- DataSetInfo              : Dataset[mymc-dataset1] : Correlation matrix (Signal):\n",
      "--- DataSetInfo              : --------------------------------\n",
      "--- DataSetInfo              :             var0    var1    var2\n",
      "--- DataSetInfo              :    var0:  +1.000  -0.008  +0.012\n",
      "--- DataSetInfo              :    var1:  -0.008  +1.000  +0.028\n",
      "--- DataSetInfo              :    var2:  +0.012  +0.028  +1.000\n",
      "--- DataSetInfo              : --------------------------------\n",
      "--- DataSetInfo              : Dataset[mymc-dataset1] : Correlation matrix (Background):\n",
      "--- DataSetInfo              : --------------------------------\n",
      "--- DataSetInfo              :             var0    var1    var2\n",
      "--- DataSetInfo              :    var0:  +1.000  -0.008  -0.004\n",
      "--- DataSetInfo              :    var1:  -0.008  +1.000  +0.031\n",
      "--- DataSetInfo              :    var2:  -0.004  +0.031  +1.000\n",
      "--- DataSetInfo              : --------------------------------\n",
      "--- DataSetFactory           : Dataset[mymc-dataset1] :  \n",
      "--- Factory                  : \n",
      "--- Factory                  : current transformation string: 'I'\n",
      "--- Factory                  : Dataset[mymc-dataset1] : Create Transformation \"I\" with events from all classes.\n",
      "--- Id                       : Transformation, Variable selection : \n",
      "--- Id                       : Input : variable 'var0' (index=0).   <---> Output : variable 'var0' (index=0).\n",
      "--- Id                       : Input : variable 'var1' (index=1).   <---> Output : variable 'var1' (index=1).\n",
      "--- Id                       : Input : variable 'var2' (index=2).   <---> Output : variable 'var2' (index=2).\n",
      "--- Id                       : Preparing the Identity transformation...\n",
      "--- TFHandler_Factory        : -----------------------------------------------------------\n",
      "--- TFHandler_Factory        : Variable        Mean        RMS   [        Min        Max ]\n",
      "--- TFHandler_Factory        : -----------------------------------------------------------\n",
      "--- TFHandler_Factory        :     var0:     3.0763     1.7033   [   0.043380     9.9950 ]\n",
      "--- TFHandler_Factory        :     var1:     1.5553     1.4223   [ 0.00032097     4.9967 ]\n",
      "--- TFHandler_Factory        :     var2:     3.5090     1.1966   [  0.0038420     5.0000 ]\n",
      "--- TFHandler_Factory        : -----------------------------------------------------------\n",
      "--- TFHandler_Factory        : Plot event variables for Id\n",
      "--- TFHandler_Factory        : Create scatter and profile plots in target-file directory: \n",
      "--- TFHandler_Factory        : TMVAOutputDL.root:/mymc-dataset1/InputVariables_Id/CorrelationPlots\n",
      "--- TFHandler_Factory        :  \n",
      "--- TFHandler_Factory        : Ranking input variables (method unspecific)...\n",
      "--- IdTransformation         : Ranking result (top variable is best ranked)\n",
      "--- IdTransformation         : -----------------------------\n",
      "--- IdTransformation         : Rank : Variable  : Separation\n",
      "--- IdTransformation         : -----------------------------\n",
      "--- IdTransformation         :    1 : var1      : 1.432e-01\n",
      "--- IdTransformation         :    2 : var2      : 1.081e-01\n",
      "--- IdTransformation         :    3 : var0      : 1.014e-01\n",
      "--- IdTransformation         : -----------------------------\n",
      "--- Factory                  : Train method: MLP for Classification\n",
      "--- Norm                     : Preparing the transformation.\n",
      "--- TFHandler_MLP            : -----------------------------------------------------------\n",
      "--- TFHandler_MLP            : Variable        Mean        RMS   [        Min        Max ]\n",
      "--- TFHandler_MLP            : -----------------------------------------------------------\n",
      "--- TFHandler_MLP            :     var0:   -0.39047    0.34232   [    -1.0000     1.0000 ]\n",
      "--- TFHandler_MLP            :     var1:   -0.37756    0.56933   [    -1.0000     1.0000 ]\n",
      "--- TFHandler_MLP            :     var2:    0.40316    0.47901   [    -1.0000     1.0000 ]\n",
      "--- TFHandler_MLP            : -----------------------------------------------------------\n",
      "--- MLP                      : Dataset[mymc-dataset1] : Begin training\n",
      "--- MLP                      : Training Network\n",
      "--- MLP                      : Dataset[mymc-dataset1] : End of training                                              \n",
      "--- MLP                      : Dataset[mymc-dataset1] : Elapsed time for training with 6000 events: \u001b[1;31m4.84 sec\u001b[0m         \n",
      "--- MLP                      : Dataset[mymc-dataset1] : Create MVA output for Dataset[mymc-dataset1] : classification on training sample\n",
      "--- MLP                      : Dataset[mymc-dataset1] : Evaluation of MLP on training sample (6000 events)\n",
      "--- MLP                      : Dataset[mymc-dataset1] : Elapsed time for evaluation of 6000 events: \u001b[1;31m0.0101 sec\u001b[0m       \n",
      "--- MLP                      : Dataset[mymc-dataset1] : Creating weight file in xml format: \u001b[0;36mmymc-dataset1/weights/TMVAClassification_MLP.weights.xml\u001b[0m\n",
      "--- MLP                      : Dataset[mymc-dataset1] : Creating standalone response class: \u001b[0;36mmymc-dataset1/weights/TMVAClassification_MLP.class.C\u001b[0m\n",
      "--- MLP                      : Write special histos to file: TMVAOutputDL.root:/mymc-dataset1/MLP\n",
      "--- Factory                  : Training finished\n",
      "--- Factory                  : \n",
      "--- Factory                  : Ranking input variables (method specific)...\n",
      "--- MLP                      : Ranking result (top variable is best ranked)\n",
      "--- MLP                      : -----------------------------\n",
      "--- MLP                      : Rank : Variable  : Importance\n",
      "--- MLP                      : -----------------------------\n",
      "--- MLP                      :    1 : var0      : 2.780e+01\n",
      "--- MLP                      :    2 : var1      : 2.339e+01\n",
      "--- MLP                      :    3 : var2      : 6.350e-01\n",
      "--- MLP                      : -----------------------------\n",
      "--- Factory                  : \n",
      "--- Factory                  : === Destroy and recreate all methods via weight files for testing ===\n",
      "--- Factory                  : \n",
      "--- MethodBase               : Dataset[mymc-dataset1] : Reading weight file: \u001b[0;36mmymc-dataset1/weights/TMVAClassification_MLP.weights.xml\u001b[0m\n",
      "--- MLP                      : Dataset[mymc-dataset1] : Read method \"MLP\" of type \"MLP\"\n",
      "--- MLP                      : Dataset[mymc-dataset1] : MVA method was trained with TMVA Version: 4.2.1\n",
      "--- MLP                      : Dataset[mymc-dataset1] : MVA method was trained with ROOT Version: 6.05/03\n",
      "--- MLP                      : Building Network\n",
      "--- MLP                      : Initializing weights\n",
      "--- Factory                  : \n",
      "--- Factory                  : current transformation string: 'I'\n",
      "--- Factory                  : Dataset[mymc-dataset2] : Create Transformation \"I\" with events from all classes.\n",
      "--- Id                       : Transformation, Variable selection : \n",
      "--- Id                       : Input : variable 'var0' (index=0).   <---> Output : variable 'var0' (index=0).\n",
      "--- Id                       : Input : variable 'var1' (index=1).   <---> Output : variable 'var1' (index=1).\n",
      "--- Id                       : Input : variable 'var2' (index=2).   <---> Output : variable 'var2' (index=2).\n",
      "--- Id                       : Input : variable 'var3' (index=3).   <---> Output : variable 'var3' (index=3).\n",
      "--- Id                       : Input : variable 'var4' (index=4).   <---> Output : variable 'var4' (index=4).\n",
      "--- Id                       : Input : variable 'var5' (index=5).   <---> Output : variable 'var5' (index=5).\n",
      "--- Id                       : Preparing the Identity transformation...\n",
      "--- TFHandler_Factory        : -----------------------------------------------------------\n",
      "--- TFHandler_Factory        : Variable        Mean        RMS   [        Min        Max ]\n",
      "--- TFHandler_Factory        : -----------------------------------------------------------\n",
      "--- TFHandler_Factory        :     var0:     3.0763     1.7033   [   0.043380     9.9950 ]\n",
      "--- TFHandler_Factory        :     var1:     1.5553     1.4223   [ 0.00032097     4.9967 ]\n",
      "--- TFHandler_Factory        :     var2:     3.5090     1.1966   [  0.0038420     5.0000 ]\n",
      "--- TFHandler_Factory        :     var3:     1.5210     2.2372   [    -3.9769     9.9365 ]\n",
      "--- TFHandler_Factory        :     var4:     10.822     7.5844   [   0.014320     48.593 ]\n",
      "--- TFHandler_Factory        :     var5:     5.0643     1.7847   [    0.14162     9.9525 ]\n",
      "--- TFHandler_Factory        : -----------------------------------------------------------\n",
      "--- TFHandler_Factory        : Plot event variables for Id\n",
      "--- TFHandler_Factory        : Create scatter and profile plots in target-file directory: \n",
      "--- TFHandler_Factory        : TMVAOutputDL.root:/mymc-dataset2/InputVariables_Id/CorrelationPlots\n",
      "--- TFHandler_Factory        :  \n",
      "--- TFHandler_Factory        : Ranking input variables (method unspecific)...\n",
      "--- IdTransformation         : Ranking result (top variable is best ranked)\n",
      "--- IdTransformation         : -----------------------------\n",
      "--- IdTransformation         : Rank : Variable  : Separation\n",
      "--- IdTransformation         : -----------------------------\n",
      "--- IdTransformation         :    1 : var3      : 2.599e-01\n",
      "--- IdTransformation         :    2 : var1      : 1.432e-01\n",
      "--- IdTransformation         :    3 : var2      : 1.081e-01\n",
      "--- IdTransformation         :    4 : var0      : 1.014e-01\n",
      "--- IdTransformation         :    5 : var5      : 5.893e-02\n",
      "--- IdTransformation         :    6 : var4      : 5.046e-02\n",
      "--- IdTransformation         : -----------------------------\n",
      "--- Factory                  : Train method: BDT for Classification\n",
      "--- BDT                      : Dataset[mymc-dataset2] : Begin training\n",
      "--- BDT                      :  found and suggest the following possible pre-selection cuts \n",
      "--- BDT                      : as option DoPreselection was not used, these cuts however will not be performed, but the training will see the full sample\n",
      "--- BDT                      :  found cut: Sig if var 0 > 7.56526\n",
      "--- BDT                      :  found cut: Bkg if var 3 < -1.09256\n",
      "--- BDT                      :  found cut: Sig if var 3 > 7.48204\n",
      "--- BDT                      : <InitEventSample> For classification trees, \n",
      "--- BDT                      :  the effective number of backgrounds is scaled to match \n",
      "--- BDT                      :  the signal. Othersise the first boosting step would do 'just that'!\n",
      "--- BDT                      : re-normlise events such that Sig and Bkg have respective sum of weights = 1\n",
      "--- BDT                      :   sig->sig*1ev. bkg->bkg*1ev.\n",
      "--- BDT                      : #events: (reweighted) sig: 3000 bkg: 3000\n",
      "--- BDT                      : #events: (unweighted) sig: 3000 bkg: 3000\n",
      "--- BDT                      : Training 5 Decision Trees ... patience please\n",
      "--- BinaryTree               : The minimal node size MinNodeSize=2.5 fMinNodeSize=2.5% is translated to an actual number of events = 76.175 for the training sample size of 3047\n",
      "--- BinaryTree               : Note: This number will be taken as absolute minimum in the node, \n",
      "--- BinaryTree               :       in terms of 'weighted events' and unweighted ones !! \n",
      "--- BDT                      : <Train> elapsed time: \u001b[1;31m0.0241 sec\u001b[0m                              \n",
      "--- BDT                      : <Train> average number of nodes (w/o pruning) : 4\n",
      "--- BDT                      : Dataset[mymc-dataset2] : End of training                                              \n",
      "--- BDT                      : Dataset[mymc-dataset2] : Elapsed time for training with 6000 events: \u001b[1;31m0.0586 sec\u001b[0m         \n",
      "--- BDT                      : Dataset[mymc-dataset2] : Create MVA output for Dataset[mymc-dataset2] : classification on training sample\n",
      "--- BDT                      : Dataset[mymc-dataset2] : Evaluation of BDT on training sample (6000 events)\n",
      "--- BDT                      : Dataset[mymc-dataset2] : Elapsed time for evaluation of 6000 events: \u001b[1;31m0.00401 sec\u001b[0m       \n",
      "--- BDT                      : Dataset[mymc-dataset2] : Creating weight file in xml format: \u001b[0;36mmymc-dataset2/weights/TMVAClassification_BDT.weights.xml\u001b[0m\n",
      "--- BDT                      : Dataset[mymc-dataset2] : Creating standalone response class: \u001b[0;36mmymc-dataset2/weights/TMVAClassification_BDT.class.C\u001b[0m\n",
      "--- BDT                      : Write monitoring histograms to file: TMVAOutputDL.root:/mymc-dataset2/BDT\n",
      "--- Factory                  : Training finished\n",
      "--- Factory                  : \n",
      "--- Factory                  : Ranking input variables (method specific)...\n",
      "--- BDT                      : Ranking result (top variable is best ranked)\n",
      "--- BDT                      : --------------------------------------\n",
      "--- BDT                      : Rank : Variable  : Variable Importance\n",
      "--- BDT                      : --------------------------------------\n",
      "--- BDT                      :    1 : var3      : 4.718e-01\n",
      "--- BDT                      :    2 : var2      : 2.594e-01\n",
      "--- BDT                      :    3 : var0      : 1.709e-01\n",
      "--- BDT                      :    4 : var1      : 9.794e-02\n",
      "--- BDT                      :    5 : var4      : 0.000e+00\n",
      "--- BDT                      :    6 : var5      : 0.000e+00\n",
      "--- BDT                      : --------------------------------------\n",
      "--- Factory                  : \n",
      "--- Factory                  : === Destroy and recreate all methods via weight files for testing ===\n",
      "--- Factory                  : \n",
      "--- MethodBase               : Dataset[mymc-dataset2] : Reading weight file: \u001b[0;36mmymc-dataset2/weights/TMVAClassification_BDT.weights.xml\u001b[0m\n",
      "--- BDT                      : Dataset[mymc-dataset2] : Read method \"BDT\" of type \"BDT\"\n",
      "--- BDT                      : Dataset[mymc-dataset2] : MVA method was trained with TMVA Version: 4.2.1\n",
      "--- BDT                      : Dataset[mymc-dataset2] : MVA method was trained with ROOT Version: 6.05/03\n"
     ]
    }
   ],
   "source": [
    "factory->TrainAllMethods();"
   ]
  },
  {
   "cell_type": "markdown",
   "metadata": {},
   "source": [
    "## Testing and Evaluating the data"
   ]
  },
  {
   "cell_type": "code",
   "execution_count": 7,
   "metadata": {
    "collapsed": false
   },
   "outputs": [
    {
     "name": "stdout",
     "output_type": "stream",
     "text": [
      "--- Factory                  : Test all methods...\n",
      "--- Factory                  : Test method: MLP for Classification performance\n",
      "--- MLP                      : Dataset[mymc-dataset1] : Evaluation of MLP on testing sample (2898 events)\n",
      "--- MLP                      : Dataset[mymc-dataset1] : Elapsed time for evaluation of 2898 events: \u001b[1;31m0.00825 sec\u001b[0m       \n",
      "--- Factory                  : Test method: BDT for Classification performance\n",
      "--- BDT                      : Dataset[mymc-dataset2] : Evaluation of BDT on testing sample (2898 events)\n",
      "--- BDT                      : Dataset[mymc-dataset2] : Elapsed time for evaluation of 2898 events: \u001b[1;31m0.00275 sec\u001b[0m       \n",
      "--- Factory                  : Evaluate all methods...\n",
      "--- Factory                  : Evaluate classifier: MLP\n",
      "--- TFHandler_MLP            : -----------------------------------------------------------\n",
      "--- TFHandler_MLP            : Variable        Mean        RMS   [        Min        Max ]\n",
      "--- TFHandler_MLP            : -----------------------------------------------------------\n",
      "--- TFHandler_MLP            :     var0:   -0.39553    0.33943   [   -0.99628     1.0000 ]\n",
      "--- TFHandler_MLP            :     var1:   -0.35571    0.57297   [    -1.0001    0.99955 ]\n",
      "--- TFHandler_MLP            :     var2:    0.40013    0.48671   [    -1.0012    0.99971 ]\n",
      "--- TFHandler_MLP            : -----------------------------------------------------------\n",
      "--- MLP                      : Dataset[mymc-dataset1] : Loop over test events and fill histograms with classifier response...\n",
      "--- Factory                  : Write evaluation histograms to file\n",
      "--- TFHandler_MLP            : Plot event variables for MLP\n",
      "--- TFHandler_MLP            : -----------------------------------------------------------\n",
      "--- TFHandler_MLP            : Variable        Mean        RMS   [        Min        Max ]\n",
      "--- TFHandler_MLP            : -----------------------------------------------------------\n",
      "--- TFHandler_MLP            :     var0:   -0.39553    0.33943   [   -0.99628     1.0000 ]\n",
      "--- TFHandler_MLP            :     var1:   -0.35571    0.57297   [    -1.0001    0.99955 ]\n",
      "--- TFHandler_MLP            :     var2:    0.40013    0.48671   [    -1.0012    0.99971 ]\n",
      "--- TFHandler_MLP            : -----------------------------------------------------------\n",
      "--- TFHandler_MLP            : Create scatter and profile plots in target-file directory: \n",
      "--- TFHandler_MLP            : TMVAOutputDL.root:/mymc-dataset1/Method_MLP/MLP/CorrelationPlots\n",
      "--- Factory                  : \n",
      "--- Factory                  : Evaluation results ranked by best signal efficiency and purity (area)\n",
      "--- Factory                  : -------------------------------------------------------------------------------------------------------------------\n",
      "--- Factory                  : DataSet              MVA              Signal efficiency at bkg eff.(error):                | Sepa-    Signifi- \n",
      "--- Factory                  : Name:                Method:          @B=0.01    @B=0.10    @B=0.30    ROC-integ    ROCCurve| ration:  cance:   \n",
      "--- Factory                  : -------------------------------------------------------------------------------------------------------------------\n",
      "--- Factory                  : mymc-dataset1        MLP            : 0.197(10)  0.631(12)  0.926(06)    0.896       0.894 | 0.498    1.371\n",
      "--- Factory                  : -------------------------------------------------------------------------------------------------------------------\n",
      "--- Factory                  : \n",
      "--- Factory                  : Testing efficiency compared to training efficiency (overtraining check)\n",
      "--- Factory                  : -------------------------------------------------------------------------------------------------------------------\n",
      "--- Factory                  : DataSet              MVA              Signal efficiency: from test sample (from training sample) \n",
      "--- Factory                  : Name:                Method:          @B=0.01             @B=0.10            @B=0.30   \n",
      "--- Factory                  : -------------------------------------------------------------------------------------------------------------------\n",
      "--- Factory                  : mymc-dataset1        MLP            : 0.197 (0.212)       0.631 (0.620)      0.926 (0.899)\n",
      "--- Factory                  : -------------------------------------------------------------------------------------------------------------------\n",
      "--- Factory                  : \n",
      "--- Dataset:mymc-dataset1    : Dataset[mymc-dataset1] : Created tree 'TestTree' with 2898 events\n",
      "--- Dataset:mymc-dataset1    : Dataset[mymc-dataset1] : Created tree 'TrainTree' with 6000 events\n",
      "--- Factory                  : Evaluate classifier: BDT\n",
      "--- BDT                      : Dataset[mymc-dataset2] : Loop over test events and fill histograms with classifier response...\n",
      "--- Factory                  : Write evaluation histograms to file\n",
      "--- TFHandler_BDT            : Plot event variables for BDT\n",
      "--- TFHandler_BDT            : -----------------------------------------------------------\n",
      "--- TFHandler_BDT            : Variable        Mean        RMS   [        Min        Max ]\n",
      "--- TFHandler_BDT            : -----------------------------------------------------------\n",
      "--- TFHandler_BDT            :     var0:     3.0511     1.6889   [   0.061879     9.9950 ]\n",
      "--- TFHandler_BDT            :     var1:     1.6099     1.4314   [ 9.9424e-05     4.9956 ]\n",
      "--- TFHandler_BDT            :     var2:     3.5015     1.2158   [ 0.00088645     4.9993 ]\n",
      "--- TFHandler_BDT            :     var3:     1.4412     2.2459   [    -3.6483     9.9615 ]\n",
      "--- TFHandler_BDT            :     var4:     10.770     7.6139   [ 0.00088366     48.019 ]\n",
      "--- TFHandler_BDT            :     var5:     5.1113     1.8033   [    0.17973     9.9030 ]\n",
      "--- TFHandler_BDT            : -----------------------------------------------------------\n",
      "--- TFHandler_BDT            : Create scatter and profile plots in target-file directory: \n",
      "--- TFHandler_BDT            : TMVAOutputDL.root:/mymc-dataset2/Method_BDT/BDT/CorrelationPlots\n",
      "--- Factory                  : \n",
      "--- Factory                  : Evaluation results ranked by best signal efficiency and purity (area)\n",
      "--- Factory                  : -------------------------------------------------------------------------------------------------------------------\n",
      "--- Factory                  : DataSet              MVA              Signal efficiency at bkg eff.(error):                | Sepa-    Signifi- \n",
      "--- Factory                  : Name:                Method:          @B=0.01    @B=0.10    @B=0.30    ROC-integ    ROCCurve| ration:  cance:   \n",
      "--- Factory                  : -------------------------------------------------------------------------------------------------------------------\n",
      "--- Factory                  : mymc-dataset2        BDT            : 0.000(00)  0.481(13)  0.742(11)    0.814       0.814 | 0.337    0.965\n",
      "--- Factory                  : -------------------------------------------------------------------------------------------------------------------\n",
      "--- Factory                  : \n",
      "--- Factory                  : Testing efficiency compared to training efficiency (overtraining check)\n",
      "--- Factory                  : -------------------------------------------------------------------------------------------------------------------\n",
      "--- Factory                  : DataSet              MVA              Signal efficiency: from test sample (from training sample) \n",
      "--- Factory                  : Name:                Method:          @B=0.01             @B=0.10            @B=0.30   \n",
      "--- Factory                  : -------------------------------------------------------------------------------------------------------------------\n",
      "--- Factory                  : mymc-dataset2        BDT            : 0.000 (0.000)       0.481 (0.443)      0.742 (0.720)\n",
      "--- Factory                  : -------------------------------------------------------------------------------------------------------------------\n",
      "--- Factory                  : \n",
      "--- Dataset:mymc-dataset2    : Dataset[mymc-dataset2] : Created tree 'TestTree' with 2898 events\n",
      "--- Dataset:mymc-dataset2    : Dataset[mymc-dataset2] : Created tree 'TrainTree' with 6000 events\n",
      "--- Factory                  :   \n",
      "--- Factory                  : \u001b[1mThank you for using TMVA!\u001b[0m\n",
      "--- Factory                  : \u001b[1mFor citation information, please visit: http://tmva.sf.net/citeTMVA.html\u001b[0m\n",
      "==> TMVAClassification is done!\n"
     ]
    }
   ],
   "source": [
    "factory->TestAllMethods();\n",
    "\n",
    "factory->EvaluateAllMethods();    \n",
    "\n",
    "// Save the output\n",
    "outputFile->Close();\n",
    "\n",
    "std::cout << \"==> TMVAClassification is done!\" << std::endl;\n",
    "\n",
    "delete factory;\n",
    "delete loader1;\n",
    "delete loader2;"
   ]
  },
  {
   "cell_type": "markdown",
   "metadata": {},
   "source": [
    "## Ploting ROC Curve"
   ]
  },
  {
   "cell_type": "code",
   "execution_count": 8,
   "metadata": {
    "collapsed": false
   },
   "outputs": [
    {
     "name": "stdout",
     "output_type": "stream",
     "text": [
      "--- Found 1 classifier types\n",
      "--- Found 1 instance(s) of the method Method_MLP\n",
      "--- Found 1 classifier types\n",
      "--- Found 1 instance(s) of the method Method_MLP\n"
     ]
    },
    {
     "name": "stderr",
     "output_type": "stream",
     "text": [
      "TColor::TColor:0: RuntimeWarning: color 1367 already defined\n",
      "Info in <TCanvas::Print>: eps file plots/rejBvsS.eps has been created\n"
     ]
    },
    {
     "data": {
      "image/png": "[encoded data removed]",
      "text/plain": [
       "<IPython.core.display.Image object>"
      ]
     },
     "metadata": {},
     "output_type": "display_data"
    }
   ],
   "source": [
    "TFile *file=TFile::Open(\"TMVAOutputDL.root\");\n",
    "\n",
    "gDirectory->cd(\"mymc-dataset1\");\n",
    "TMVA::plot_efficiencies(file,  2,gDirectory);\n",
    "c->Draw();\n",
    "c->Draw();"
   ]
  },
  {
   "cell_type": "code",
   "execution_count": 9,
   "metadata": {
    "collapsed": false
   },
   "outputs": [
    {
     "name": "stdout",
     "output_type": "stream",
     "text": [
      "--- Found 1 classifier types\n",
      "--- Found 1 instance(s) of the method Method_BDT\n",
      "--- Found 1 classifier types\n",
      "--- Found 1 instance(s) of the method Method_BDT\n"
     ]
    },
    {
     "name": "stderr",
     "output_type": "stream",
     "text": [
      "TCanvas::Constructor:0: RuntimeWarning: Deleting canvas with same name: c\n",
      "TColor::TColor:0: RuntimeWarning: color 1367 already defined\n",
      "Info in <TCanvas::Print>: eps file plots/rejBvsS.eps has been created\n"
     ]
    }
   ],
   "source": [
    "file->cd();\n",
    "gDirectory->cd(\"mymc-dataset2\");\n",
    "TMVA::plot_efficiencies(file,  2,gDirectory);"
   ]
  },
  {
   "cell_type": "code",
   "execution_count": 10,
   "metadata": {
    "collapsed": false
   },
   "outputs": [
    {
     "data": {
      "image/png": "[encoded data removed]",
      "text/plain": [
       "<IPython.core.display.Image object>"
      ]
     },
     "metadata": {},
     "output_type": "display_data"
    }
   ],
   "source": [
    "c->Draw();"
   ]
  },
  {
   "cell_type": "code",
   "execution_count": null,
   "metadata": {
    "collapsed": true
   },
   "outputs": [],
   "source": []
  }
 ],
 "metadata": {
  "kernelspec": {
   "display_name": "ROOT Prompt",
   "language": "c++",
   "name": "root"
  },
  "language_info": {
   "codemirror_mode": {
    "name": "ipython",
    "version": 2
   },
   "file_extension": ".py",
   "mimetype": "text/x-python",
   "name": "python",
   "nbconvert_exporter": "python",
   "pygments_lexer": "ipython2",
   "version": "2.7.9"
  }
 },
 "nbformat": 4,
 "nbformat_minor": 0
}
